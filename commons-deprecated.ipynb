{
 "cells": [
  {
   "cell_type": "markdown",
   "id": "5a0941a2",
   "metadata": {},
   "source": [
    "## Helper functions"
   ]
  },
  {
   "cell_type": "markdown",
   "id": "59d4e797",
   "metadata": {},
   "source": [
    "### Visualization helpers"
   ]
  },
  {
   "cell_type": "code",
   "execution_count": null,
   "id": "a9125c06",
   "metadata": {},
   "outputs": [],
   "source": [
    "import numpy as np\n",
    "from IPython import display\n",
    "import matplotlib.pyplot as plt\n",
    "import time\n",
    "import imageio\n",
    "import os\n",
    "%matplotlib inline\n",
    "\n",
    "\n",
    "def init_fig(env):\n",
    "    plt.figure()\n",
    "    plt.title(env.spec.id)\n",
    "    plt.axis('off')\n",
    "    return plt.imshow(env.render(mode='rgb_array'))\n",
    "\n",
    "def update_fig(img, env, step, reward, done, stl_rob, stl_violated):\n",
    "    title = plt.title(\n",
    "        f\"{env.spec.id}\\n\" +\n",
    "        f\"Step: {step} | Reward: {reward:.3f} | Done: {done}\\n\" +\n",
    "        f\"STL: {stl_rob[0]:.3f} | Violated: {stl_violated}\"\n",
    "    )\n",
    "    if done or stl_violated:\n",
    "        plt.setp(title, color='r')\n",
    "    else:\n",
    "        plt.setp(title, color='k')\n",
    "    img.set_data(env.render(mode='rgb_array'))\n",
    "    fig = plt.gcf()\n",
    "    display.display(fig)\n",
    "    display.clear_output(wait=True)\n",
    "    \n",
    "    return np.asarray(fig.canvas.buffer_rgba())\n",
    "\n",
    "def visual_episode(env, next_action, compute_stl_rob, is_stl_violated,\n",
    "                   max_episode_steps=100, reset_to=None, visualize_in_notebook=True,\n",
    "                   sleep=0.01, save_gif=None, model_reset=None, seed=None):\n",
    "    if reset_to is not None:\n",
    "        obs = env.reset_to(reset_to, seed=seed)\n",
    "    else:\n",
    "        obs = env.reset()\n",
    "    \n",
    "    if model_reset is not None:\n",
    "        model_reset()\n",
    "    \n",
    "    if save_gif is not None:\n",
    "        gif = []\n",
    "    else:\n",
    "        gif = None\n",
    "\n",
    "    # initialize figure in notebook\n",
    "    if visualize_in_notebook:\n",
    "        img = init_fig(env)\n",
    "\n",
    "    space = env.observation_space\n",
    "    total_reward = 0.0\n",
    "    obs_records = [obs]\n",
    "    \n",
    "    for step in range(1, max_episode_steps+1):\n",
    "        action = next_action(obs)\n",
    "        obs, reward, done, info = env.step(action)\n",
    "        total_reward += reward\n",
    "        obs_records.append(np.clip(obs, space.low, space.high))\n",
    "\n",
    "        if visualize_in_notebook:\n",
    "            rob = compute_stl_rob(np.asarray(obs_records))\n",
    "            fig_data = update_fig(img, env, step, total_reward, done, rob, is_stl_violated(rob))\n",
    "            if save_gif is not None:\n",
    "                gif.append(fig_data)\n",
    "        else:\n",
    "            env.render()\n",
    "\n",
    "        if sleep > 0.0:\n",
    "            time.sleep(sleep)\n",
    "    \n",
    "    if save_gif is not None:\n",
    "        imageio.mimsave(save_gif, [data for data in gif], fps=10)"
   ]
  },
  {
   "cell_type": "code",
   "execution_count": null,
   "id": "a22e6e6d",
   "metadata": {},
   "outputs": [],
   "source": [
    "def visual_deviated_env(x, reset_to, seed, save_gif=None):\n",
    "    env = build_env(x)\n",
    "    # env.seed(seed)\n",
    "    visual_episode(env, next_action, compute_stl_rob, is_stl_violated, max_episode_steps=max_episode_steps,\n",
    "                   reset_to=reset_to, save_gif=save_gif, model_reset=model_reset, seed=seed)\n",
    "    env.close()"
   ]
  },
  {
   "cell_type": "markdown",
   "id": "635ab8fd",
   "metadata": {},
   "source": [
    "### Functions for scaling the variable"
   ]
  },
  {
   "cell_type": "code",
   "execution_count": null,
   "id": "690da6ad",
   "metadata": {},
   "outputs": [],
   "source": [
    "def scale(x, bounds):\n",
    "    \"\"\"Scale the input numbers in [0, 1] to the range of each variable\"\"\"\n",
    "    return bounds[:, 0] + x * (bounds[:, 1] - bounds[:, 0])\n",
    "\n",
    "def normalize(x_scaled, bounds):\n",
    "    return (x_scaled - bounds[:, 0]) / (bounds[:, 1] - bounds[:, 0])"
   ]
  },
  {
   "cell_type": "markdown",
   "id": "624598af",
   "metadata": {},
   "source": [
    "### STL robustness computation helpers"
   ]
  },
  {
   "cell_type": "code",
   "execution_count": null,
   "id": "e5dd28c9",
   "metadata": {},
   "outputs": [],
   "source": [
    "import signal_tl as stl\n",
    "\n",
    "def compute_stl_rob(records):\n",
    "    if records.ndim == 2:\n",
    "        records = np.array([records])\n",
    "    \n",
    "    time_index = np.arange(records.shape[1])\n",
    "    robs = []\n",
    "    for i in range(len(records)):\n",
    "        trace = build_stl_trace(records[i], time_index)\n",
    "        rob = stl.compute_robustness(phi, trace)\n",
    "        robs.append(rob.at(0))\n",
    "    \n",
    "    return np.array(robs)"
   ]
  },
  {
   "cell_type": "markdown",
   "id": "1b03b726",
   "metadata": {},
   "source": [
    "### STL falsification helpers"
   ]
  },
  {
   "cell_type": "markdown",
   "id": "7a00807b",
   "metadata": {},
   "source": [
    "#### Falsification by random sampling"
   ]
  },
  {
   "cell_type": "code",
   "execution_count": null,
   "id": "dbe46d56",
   "metadata": {},
   "outputs": [],
   "source": [
    "def random_sample(env):\n",
    "    space = env.observation_space\n",
    "    episode_obs_records = []\n",
    "\n",
    "    for episode in range(max_episodes):\n",
    "        obs = env.reset()\n",
    "        \n",
    "        if model_reset is not None:\n",
    "            model_reset()\n",
    "        \n",
    "        obs_records = [obs]\n",
    "        \n",
    "        for step in range(max_episode_steps):\n",
    "            action = next_action(obs)\n",
    "            obs, reward, done, info = env.step(action)\n",
    "            obs_records.append(np.clip(obs, space.low, space.high))\n",
    "\n",
    "        episode_obs_records.append(obs_records)\n",
    "\n",
    "    return np.array(episode_obs_records)\n",
    "\n",
    "def falsification_by_random_sample(x):\n",
    "    \"\"\"\n",
    "    x is the deviation parameter in its original domain\n",
    "    \"\"\"\n",
    "    env = build_env(x)\n",
    "    # env.seed(seed)\n",
    "    records = random_sample(env)\n",
    "    env.close()\n",
    "    return compute_stl_rob(records).min()\n",
    "\n",
    "def scaled_falsification_by_random_sample(x):\n",
    "    \"\"\"\n",
    "    Wrapped falsification function where input x is in [0, 1] and should be scaled to the original domain.\n",
    "    \"\"\"\n",
    "    return falsification_by_random_sample(scale(x, dev_bounds))"
   ]
  },
  {
   "cell_type": "markdown",
   "id": "e504aad9",
   "metadata": {},
   "source": [
    "#### Falsification by CMA"
   ]
  },
  {
   "cell_type": "code",
   "execution_count": null,
   "id": "3a3748bb",
   "metadata": {},
   "outputs": [],
   "source": [
    "import cma\n",
    "\n",
    "def episode_by_init(env, x):\n",
    "    space = env.observation_space\n",
    "    obs = env.reset_to(x, seed=seed)\n",
    "    obs_records = [obs]\n",
    "    \n",
    "    if model_reset is not None:\n",
    "        model_reset()\n",
    "    \n",
    "    for step in range(max_episode_steps):\n",
    "        action = next_action(obs)\n",
    "        obs, reward, done, info = env.step(action)\n",
    "        obs_records.append(np.clip(obs, space.low, space.high))\n",
    "    \n",
    "    return np.array(obs_records)\n",
    "\n",
    "def falsification_by_CMA(x):\n",
    "    env = build_env(x)\n",
    "    # env.seed(seed)\n",
    "    \n",
    "    def objective(y):\n",
    "        record = episode_by_init(env, y)\n",
    "        return compute_stl_rob(record)[0]\n",
    "    \n",
    "    y0 = np.zeros(len(falsify_range)) # TODO: https://lig-kobe-grenoble.imag.fr/wp-content/uploads/2018/03/05.-Session-4-presentation-1-Thao-Dang.pdf\n",
    "    sigma0 = 0.2\n",
    "    min_x, es = cma.fmin2(\n",
    "        lambda y: objective(scale(y, falsify_range)),\n",
    "        y0,\n",
    "        sigma0,\n",
    "        {'bounds': [0.0, 1.0], 'maxfeval': max_episodes, 'ftarget': stl_falsify_target, 'verbose': -9}\n",
    "    )\n",
    "    \n",
    "    env.close()\n",
    "    return es.result.fbest, scale(min_x, falsify_range)\n",
    "\n",
    "def scaled_falsification_by_CMA(x):\n",
    "    fbest, _ = falsification_by_CMA(scale(x, dev_bounds))\n",
    "    return fbest"
   ]
  },
  {
   "cell_type": "markdown",
   "id": "46b5224a",
   "metadata": {},
   "source": [
    "#### Compare two sampling methods"
   ]
  },
  {
   "cell_type": "code",
   "execution_count": null,
   "id": "8a0ec720",
   "metadata": {},
   "outputs": [],
   "source": [
    "def compare_falsification(trials):\n",
    "    for x in np.random.rand(trials, len(dev_bounds)):\n",
    "        est1 = scaled_falsification_by_random_sample(x)\n",
    "        est2 = scaled_falsification_by_CMA(x)\n",
    "        if est1 < est2:\n",
    "            print(est1, est2, \"Random Sample\")\n",
    "        else:\n",
    "            print(est1, est2, \"CMA\")"
   ]
  },
  {
   "cell_type": "markdown",
   "id": "49a4815e",
   "metadata": {},
   "source": [
    "### Miscs"
   ]
  },
  {
   "cell_type": "code",
   "execution_count": null,
   "id": "e58e68c0",
   "metadata": {},
   "outputs": [],
   "source": [
    "def evaluate_dev(x, gif):\n",
    "    robustness, x_init = falsification_by_CMA(x)\n",
    "    visual_deviated_env(x, x_init, seed, gif)\n",
    "    if not is_stl_violated([robustness]):\n",
    "        print(\"Is safe!\")\n",
    "    print(\"Deviation:\", x)\n",
    "    print(\"Deviation distance:\", deviation_dist(x))\n",
    "    print(\"Initial parameter:\", x_init)\n",
    "    print(\"Min robustness value:\", robustness)"
   ]
  },
  {
   "cell_type": "markdown",
   "id": "6eee124d",
   "metadata": {},
   "source": [
    "### Robustness computation helpers"
   ]
  },
  {
   "cell_type": "code",
   "execution_count": null,
   "id": "73e6afbe",
   "metadata": {},
   "outputs": [],
   "source": [
    "if not os.path.exists('gifs'):\n",
    "    os.mkdir('gifs')"
   ]
  },
  {
   "cell_type": "code",
   "execution_count": null,
   "id": "861707f3",
   "metadata": {},
   "outputs": [],
   "source": [
    "# l-2 norm distance, the input x is in the original domain\n",
    "def deviation_dist(x):\n",
    "    \"\"\"The variables of the objective function are normalized to [0, 1)\"\"\"\n",
    "    return np.sqrt(np.sum((x - x_original) ** 2))\n",
    "\n",
    "# wrapped objective function where input x is in [0, 1] and should be scaled to the original domain\n",
    "def scaled_deviation_dist(x):\n",
    "    return deviation_dist(scale(x, dev_bounds))"
   ]
  },
  {
   "cell_type": "code",
   "execution_count": null,
   "id": "2d675708",
   "metadata": {},
   "outputs": [],
   "source": [
    "def dev_violates_stl():\n",
    "    x0 = normalize(x_original, dev_bounds)\n",
    "    sigma0 = 0.4\n",
    "\n",
    "    _, es = cma.fmin2(\n",
    "        scaled_falsification_by_CMA,\n",
    "        x0,\n",
    "        sigma0,\n",
    "        {'bounds': [0.0, 1.0], 'ftarget': stl_falsify_target, 'tolstagnation': 0,\n",
    "         'tolx': 1e-5, 'timeout': timeout * 60},\n",
    "    )\n",
    "    print(es.result)\n",
    "    return scale(es.result.xbest, dev_bounds)"
   ]
  },
  {
   "cell_type": "code",
   "execution_count": null,
   "id": "b718292e",
   "metadata": {},
   "outputs": [],
   "source": [
    "def min_dev_violates_stl():\n",
    "    min_dev = np.inf\n",
    "    min_x = None\n",
    "    for i in range(num_tries):\n",
    "        print(f'\\n================ Trial {i} ==============>')\n",
    "\n",
    "        x0 = normalize(x_original, dev_bounds)\n",
    "        sigma0 = 0.2\n",
    "\n",
    "        cfun = cma.ConstrainedFitnessAL(\n",
    "            scaled_deviation_dist,\n",
    "            lambda x: [scaled_falsification_by_CMA(x)],\n",
    "            find_feasible_first=True\n",
    "        )\n",
    "        _, es = cma.fmin2(\n",
    "            cfun,\n",
    "            x0,\n",
    "            sigma0,\n",
    "            {'bounds': [0.0, 1.0], 'tolstagnation': 0, 'tolx': 1e-5,\n",
    "             'timeout': timeout / num_tries * 60},\n",
    "            callback=cfun.update\n",
    "        )\n",
    "\n",
    "        print(es.result)\n",
    "        if cfun.best_feas.info is not None:\n",
    "            print(cfun.best_feas.info)\n",
    "            x = cfun.best_feas.info['x']\n",
    "        \n",
    "            dev = deviation_dist(scale(x, dev_bounds))\n",
    "            if dev < min_dev:\n",
    "                min_dev = dev\n",
    "                min_x = x\n",
    "        \n",
    "    if min_x is None:\n",
    "        raise Exception(\"No violation found!\")\n",
    "    \n",
    "    return scale(min_x, dev_bounds)"
   ]
  },
  {
   "cell_type": "code",
   "execution_count": null,
   "id": "7ec4c53f",
   "metadata": {},
   "outputs": [],
   "source": [
    "def max_safe_dev():\n",
    "    max_dev = -np.inf\n",
    "    max_x = None\n",
    "    for i in range(num_tries):\n",
    "        print(f'\\n================ Trial {i} ==============>')\n",
    "\n",
    "        x0 = normalize(x_original, dev_bounds)\n",
    "        sigma0 = 0.2\n",
    "\n",
    "        cfun = cma.ConstrainedFitnessAL(\n",
    "            lambda x: -scaled_deviation_dist(x), # maximize distance\n",
    "            lambda x: [-scaled_falsification_by_CMA(x)], # robustness >= 0\n",
    "        #     find_feasible_first=True # assume the initial is already feasible\n",
    "        )\n",
    "        _, es = cma.fmin2(\n",
    "            cfun,\n",
    "            x0,\n",
    "            sigma0,\n",
    "            {'bounds': [0.0, 1.0], 'tolstagnation': 0, 'tolx': 1e-5, 'timeout': timeout / num_tries * 60},\n",
    "            callback=cfun.update\n",
    "        )\n",
    "\n",
    "        print(es.result)\n",
    "        if cfun.best_feas.info is not None:\n",
    "            print(cfun.best_feas.info)\n",
    "            x = cfun.best_feas.info['x']\n",
    "        \n",
    "            dev = deviation_dist(scale(x, dev_bounds))\n",
    "            if dev > max_dev:\n",
    "                max_dev = dev\n",
    "                max_x = x\n",
    "    \n",
    "    if max_x is None:\n",
    "        raise Exception(\"No safe deviation found!\")\n",
    "    \n",
    "    return scale(max_x, dev_bounds)"
   ]
  },
  {
   "cell_type": "markdown",
   "id": "ac725fbc",
   "metadata": {},
   "source": [
    "### Grid plot helpers"
   ]
  },
  {
   "cell_type": "code",
   "execution_count": null,
   "id": "4cb4076e",
   "metadata": {},
   "outputs": [],
   "source": [
    "from matplotlib import cm\n",
    "\n",
    "def grid_plot(x_bound, y_bound, n_x, n_y, x_name=\"X\", y_name=\"Y\", grid_name=\"grid_data\"):\n",
    "    if not os.path.exists(f'data/{grid_name}.csv'):\n",
    "        X = np.linspace(x_bound[0], x_bound[1], n_x)\n",
    "        Y = np.linspace(y_bound[0], y_bound[1], n_y)\n",
    "        X, Y = np.meshgrid(X, Y, indexing='ij')\n",
    "\n",
    "        grid_data = np.zeros((n_x, n_y))\n",
    "\n",
    "        for i in range(n_x):\n",
    "            for j in range(n_y):\n",
    "                # treat xv[i,j], yv[i,j]\n",
    "                x, y = X[i, j], Y[i, j]\n",
    "                robustness, _ = falsification_by_CMA([x, y])\n",
    "                grid_data[i, j] = robustness\n",
    "\n",
    "        if not os.path.exists('data'):\n",
    "            os.mkdir('data')\n",
    "\n",
    "        np.savetxt(f\"data/{x_name}.csv\", X, delimiter=\",\")\n",
    "        np.savetxt(f\"data/{y_name}.csv\", Y, delimiter=\",\")\n",
    "        np.savetxt(f\"data/{grid_name}.csv\", grid_data, delimiter=\",\")\n",
    "    else:\n",
    "        X = np.loadtxt(f\"data/{x_name}.csv\", delimiter=\",\")\n",
    "        Y = np.loadtxt(f\"data/{y_name}.csv\", delimiter=\",\")\n",
    "        grid_data = np.loadtxt(f\"data/{grid_name}.csv\", delimiter=\",\")\n",
    "    \n",
    "    fig, ax = plt.subplots(subplot_kw={\"projection\": \"3d\"}, figsize=(14, 14))\n",
    "    ax.plot_surface(X, Y, grid_data, cmap=cm.coolwarm)\n",
    "    ax.set_zlabel('STL Robustness', fontsize=13)\n",
    "    ax.set_xlabel(x_name, fontsize=13)\n",
    "    ax.set_ylabel(y_name, fontsize=13)\n",
    "    \n",
    "    return ax, X, Y, grid_data"
   ]
  }
 ],
 "metadata": {
  "kernelspec": {
   "display_name": "Python 3 (ipykernel)",
   "language": "python",
   "name": "python3"
  },
  "language_info": {
   "codemirror_mode": {
    "name": "ipython",
    "version": 3
   },
   "file_extension": ".py",
   "mimetype": "text/x-python",
   "name": "python",
   "nbconvert_exporter": "python",
   "pygments_lexer": "ipython3",
   "version": "3.8.10"
  }
 },
 "nbformat": 4,
 "nbformat_minor": 5
}
