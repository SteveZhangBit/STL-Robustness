{
 "cells": [
  {
   "cell_type": "code",
   "execution_count": 2,
   "id": "5678f50a",
   "metadata": {},
   "outputs": [],
   "source": [
    "import numpy as np"
   ]
  },
  {
   "cell_type": "markdown",
   "id": "df692fb9",
   "metadata": {},
   "source": [
    "## Define deviated environments"
   ]
  },
  {
   "cell_type": "code",
   "execution_count": 30,
   "id": "dfd7f0e7",
   "metadata": {},
   "outputs": [],
   "source": [
    "# Create a mutated environment\n",
    "from gym.envs.classic_control import CartPoleEnv\n",
    "from types import SimpleNamespace\n",
    "\n",
    "class MutatedCartPoleEnv(CartPoleEnv):\n",
    "    def __init__(self, masscart = 1.0, masspole = 0.1, length = 0.5, force_mag = 10.0):\n",
    "        super().__init__()\n",
    "        \n",
    "        self.spec = SimpleNamespace()\n",
    "        self.spec.id = f\"MutatedCartPole-{masscart}-{masspole}-{length}-{force_mag}\"\n",
    "        \n",
    "        self.gravity = 9.8\n",
    "        self.masscart = masscart\n",
    "        self.masspole = masspole\n",
    "        self.total_mass = self.masspole + self.masscart\n",
    "        self.length = length  # actually half the pole's length\n",
    "        self.polemass_length = self.masspole * self.length\n",
    "        self.force_mag = force_mag\n",
    "        self.tau = 0.02  # seconds between state updates\n",
    "    \n",
    "    def reset_to(self, state):\n",
    "        self.state = state\n",
    "        self.steps_beyond_done = None\n",
    "        return np.array(self.state, dtype=np.float32)"
   ]
  },
  {
   "cell_type": "markdown",
   "id": "21a330f0",
   "metadata": {},
   "source": [
    "### Visualize gym helpers"
   ]
  },
  {
   "cell_type": "code",
   "execution_count": 4,
   "id": "7754bd06",
   "metadata": {},
   "outputs": [],
   "source": [
    "from IPython import display\n",
    "import matplotlib.pyplot as plt\n",
    "import time\n",
    "%matplotlib inline\n",
    "\n",
    "\n",
    "# Define visual experiment\n",
    "def init_fig(env):\n",
    "    plt.figure()\n",
    "    plt.title(f\"{env.spec.id} | Episode: 0 | Step: 0 | Reward: 0.0\")\n",
    "    plt.axis('off')\n",
    "    return plt.imshow(env.render(mode='rgb_array'))\n",
    "\n",
    "def update_fig(img, env, episode, step, total_reward, done):\n",
    "    plt.title(f\"{env.spec.id} | Episode: {episode} | Step: {step} | Reward: {total_reward} | Done: {done}\")\n",
    "    img.set_data(env.render(mode='rgb_array'))\n",
    "    display.display(plt.gcf())\n",
    "    display.clear_output(wait=True)\n",
    "\n",
    "def visual_experiment(env, next_action, max_episode_steps=100, max_episodes=3, visualize_in_notebook=True, sleep=0.01):\n",
    "    episode_rewards = []\n",
    "    env.reset()\n",
    "\n",
    "    # initialize figure in notebook\n",
    "    if visualize_in_notebook:\n",
    "        img = init_fig(env)\n",
    "\n",
    "    for episode in range(1, max_episodes+1):\n",
    "        # reset env\n",
    "        time.sleep(1)\n",
    "        obs = env.reset()\n",
    "        total_reward = 0.0\n",
    "        \n",
    "        for step in range(1, max_episode_steps+1):\n",
    "            action = next_action(obs)\n",
    "            obs, reward, done, info = env.step(action)\n",
    "            total_reward += reward\n",
    "            \n",
    "            if visualize_in_notebook:\n",
    "                update_fig(img, env, episode, step, total_reward, done)\n",
    "            else:\n",
    "                env.render()\n",
    "            \n",
    "            if sleep > 0.0:\n",
    "                time.sleep(sleep)\n",
    "\n",
    "        episode_rewards.append(total_reward)\n",
    "\n",
    "    print(f\"Rewards: {episode_rewards}\")\n",
    "    print(f\"Mean reward of {len(episode_rewards)} episodes: {np.mean(episode_rewards)}\")\n",
    "    print(f\"Std reward of {len(episode_rewards)} episodes: {np.std(episode_rewards)}\")"
   ]
  },
  {
   "cell_type": "markdown",
   "id": "dd10fab6",
   "metadata": {},
   "source": [
    "## Define variables and objective function"
   ]
  },
  {
   "cell_type": "code",
   "execution_count": 5,
   "id": "10c7cdd2",
   "metadata": {},
   "outputs": [],
   "source": [
    "# define variables and their bounds\n",
    "masscart = [0.001, 2.0]\n",
    "force_mag = [0.001, 20.0]\n",
    "bounds = np.array([\n",
    "    masscart,\n",
    "    force_mag\n",
    "])\n",
    "\n",
    "def scale_x(x, bounds):\n",
    "    \"\"\"Scale the input numbers in [0, 1] to the range of each variable\"\"\"\n",
    "    return bounds[:, 0] + x * (bounds[:, 1] - bounds[:, 0])\n",
    "\n",
    "def normalize_x(x_scaled, bounds):\n",
    "    return (x_scaled - bounds[:, 0]) / (bounds[:, 1] - bounds[:, 0])"
   ]
  },
  {
   "cell_type": "code",
   "execution_count": 6,
   "id": "9a480fde",
   "metadata": {},
   "outputs": [],
   "source": [
    "# define objective function\n",
    "x_original = [\n",
    "    1.0, # default masscart (not normalized)\n",
    "    10.0 # default force_mag\n",
    "]\n",
    "\n",
    "# l-2 norm distance, the input x is in the original domain\n",
    "def min_deviation(x):\n",
    "    \"\"\"The variables of the objective function are normalized to [0, 1)\"\"\"\n",
    "    return np.sqrt(np.sum((x - x_original) ** 2))\n",
    "\n",
    "# wrapped objective function where input x is in [0, 1] and should be scaled to the original domain\n",
    "def scaled_min_deviation(x):\n",
    "    return min_deviation(scale_x(x, bounds))"
   ]
  },
  {
   "cell_type": "markdown",
   "id": "4a98dc5d",
   "metadata": {},
   "source": [
    "## Define RL Agent"
   ]
  },
  {
   "cell_type": "code",
   "execution_count": 7,
   "id": "4b5bd06c",
   "metadata": {},
   "outputs": [],
   "source": [
    "# load agent\n",
    "from stable_baselines3 import PPO\n",
    "\n",
    "# TODO: PPO seems to be non-deterministic\n",
    "model_ppo = PPO.load(\"best_model\")"
   ]
  },
  {
   "cell_type": "code",
   "execution_count": 8,
   "id": "8b0d7135",
   "metadata": {},
   "outputs": [],
   "source": [
    "from stable_baselines3 import DQN\n",
    "\n",
    "model_dqn = DQN.load(\"best_dqn\")"
   ]
  },
  {
   "cell_type": "markdown",
   "id": "f6666cc0",
   "metadata": {},
   "source": [
    "#### IMPORTANT: the agent is often non-deterministic"
   ]
  },
  {
   "cell_type": "code",
   "execution_count": 21,
   "id": "551b9e27",
   "metadata": {},
   "outputs": [],
   "source": [
    "env = MutatedCartPoleEnv()\n",
    "env.seed(19279)\n",
    "\n",
    "r1 = []\n",
    "a1 = []\n",
    "\n",
    "obs = env.reset()\n",
    "for _ in range(50):\n",
    "    r1.append(obs)\n",
    "    action = model_dqn.predict(obs)[0]\n",
    "    a1.append(action)\n",
    "    obs, reward, done, info = env.step(action)\n",
    "env.close()\n",
    "\n",
    "env = MutatedCartPoleEnv()\n",
    "env.seed(19279)\n",
    "\n",
    "r2 = []\n",
    "a2 = []\n",
    "\n",
    "obs = env.reset()\n",
    "for _ in range(50):\n",
    "    r2.append(obs)\n",
    "    action = model_dqn.predict(obs)[0]\n",
    "    a2.append(action)\n",
    "    obs, reward, done, info = env.step(action)\n",
    "env.close()"
   ]
  },
  {
   "cell_type": "code",
   "execution_count": 22,
   "id": "604abb9e",
   "metadata": {},
   "outputs": [
    {
     "data": {
      "text/plain": [
       "13"
      ]
     },
     "execution_count": 22,
     "metadata": {},
     "output_type": "execute_result"
    }
   ],
   "source": [
    "# the row that the observation becomes different\n",
    "np.where(np.array(r1) != np.array(r2))[0][0]"
   ]
  },
  {
   "cell_type": "code",
   "execution_count": 23,
   "id": "6e1c5a44",
   "metadata": {},
   "outputs": [
    {
     "data": {
      "text/plain": [
       "12"
      ]
     },
     "execution_count": 23,
     "metadata": {},
     "output_type": "execute_result"
    }
   ],
   "source": [
    "# the row that the action becomes different\n",
    "np.where(np.array(a1) != np.array(a2))[0][0]"
   ]
  },
  {
   "cell_type": "markdown",
   "id": "fa455f5f",
   "metadata": {},
   "source": [
    "## Define STL robustness estimation functions"
   ]
  },
  {
   "cell_type": "code",
   "execution_count": 24,
   "id": "2226b12f",
   "metadata": {},
   "outputs": [],
   "source": [
    "def random_sample(env, next_action, max_episode_steps=100, max_episodes=3, seed=None):\n",
    "    space = env.observation_space\n",
    "    episode_rewards = []\n",
    "    episode_obs_records = []\n",
    "    \n",
    "    if seed is not None:\n",
    "        env.seed(seed)\n",
    "\n",
    "    for episode in range(max_episodes):\n",
    "        # reset env\n",
    "        obs = env.reset()\n",
    "        total_reward = 0.0\n",
    "        obs_records = [obs]\n",
    "        out_space = False\n",
    "        \n",
    "        for step in range(max_episode_steps):\n",
    "            action = next_action(obs)\n",
    "            obs, reward, done, info = env.step(action)\n",
    "            \n",
    "            total_reward += reward\n",
    "            # if the observation is out of the space, clip it and then terminate the episode\n",
    "            if np.sum(obs < space.low) > 0 or np.sum(obs > space.high) > 0:\n",
    "                obs = np.clip(obs, space.low, space.high)\n",
    "                out_space = True\n",
    "            obs_records.append(obs)\n",
    "            \n",
    "            if out_space:\n",
    "                obs_records = np.append(obs_records, np.full((max_episode_steps-step-1, len(obs)), obs), axis=0)\n",
    "                break\n",
    "\n",
    "        episode_rewards.append(total_reward)\n",
    "        episode_obs_records.append(obs_records)\n",
    "\n",
    "    return np.array(episode_rewards), np.array(episode_obs_records)"
   ]
  },
  {
   "cell_type": "code",
   "execution_count": 25,
   "id": "84c0f152",
   "metadata": {},
   "outputs": [],
   "source": [
    "# Compute robustness value of the STL formula:\n",
    "#   G ( pos > -2.4 & pos < 2.4 & angle > -12 degree & angle < 12 degree )\n",
    "import signal_tl as stl\n",
    "\n",
    "pos = stl.Predicate('pos')\n",
    "angle = stl.Predicate('angle')\n",
    "\n",
    "pos_threshold = 2.4\n",
    "angle_threshold = 12 * 2 * np.pi / 360\n",
    "\n",
    "phi = stl.Always(\n",
    "    (pos > -pos_threshold) & (pos < pos_threshold) &\\\n",
    "    (angle > -angle_threshold) & (angle < angle_threshold)\n",
    ")\n",
    "\n",
    "def compute_STL_robustness(records):\n",
    "    time_index = np.arange(records.shape[1])\n",
    "    robs = []\n",
    "    for i in range(len(records)):\n",
    "        trace = {\n",
    "            \"pos\": stl.Signal(records[i, :, 0], time_index),\n",
    "            \"angle\": stl.Signal(records[i, :, 2], time_index)\n",
    "        }\n",
    "        rob = stl.compute_robustness(phi, trace)\n",
    "        robs.append(rob.at(0))\n",
    "    return np.array(robs)"
   ]
  },
  {
   "cell_type": "code",
   "execution_count": 26,
   "id": "98458b2c",
   "metadata": {},
   "outputs": [],
   "source": [
    "def build_STL_robustness(model, max_episode_steps=200, max_episodes=10, seed=12345):\n",
    "    def f(x):\n",
    "        masscart = x[0]\n",
    "        force_mag = x[1]\n",
    "        env = MutatedCartPoleEnv(masscart=masscart, force_mag=force_mag)\n",
    "\n",
    "        # fix the seed so that we can fix the initial states for sampling\n",
    "        _, records = random_sample(\n",
    "            env,\n",
    "            lambda obs: model.predict(obs)[0],\n",
    "            max_episode_steps=max_episode_steps,\n",
    "            max_episodes=max_episodes,\n",
    "            seed=seed\n",
    "        )\n",
    "\n",
    "        env.close()\n",
    "\n",
    "        robs = compute_STL_robustness(records)\n",
    "        return robs.min()\n",
    "    \n",
    "    return f"
   ]
  },
  {
   "cell_type": "code",
   "execution_count": 27,
   "id": "a0335a6d",
   "metadata": {},
   "outputs": [],
   "source": [
    "seed = 19279\n",
    "\n",
    "# define constraints where input x is in the original domain\n",
    "STL_robustness = build_STL_robustness(model_dqn, 200, 10, seed)\n",
    "\n",
    "# wrapped constraints function where input x is in [0, 1] and should be scaled to the original domain\n",
    "def scaled_STL_robustness(x):\n",
    "    return STL_robustness(scale_x(x, bounds))"
   ]
  },
  {
   "cell_type": "code",
   "execution_count": 28,
   "id": "15837d43",
   "metadata": {},
   "outputs": [],
   "source": [
    "def visualize_deviated_env(x, model):\n",
    "    masscart = x[0]\n",
    "    force_mag = x[1]\n",
    "    env = MutatedCartPoleEnv(masscart=masscart, force_mag=force_mag)\n",
    "    \n",
    "    env.seed(1234) # fix the seed so that we can fix the initial states for sampling\n",
    "    visual_experiment(env, lambda obs: model.predict(obs)[0], max_episode_steps=200, max_episodes=1)\n",
    "    env.close()"
   ]
  },
  {
   "cell_type": "markdown",
   "id": "646a7237",
   "metadata": {},
   "source": [
    "## Use CMA-ES"
   ]
  },
  {
   "cell_type": "code",
   "execution_count": 29,
   "id": "832dc43a",
   "metadata": {},
   "outputs": [],
   "source": [
    "import cma"
   ]
  },
  {
   "cell_type": "markdown",
   "id": "d60258f3",
   "metadata": {},
   "source": [
    "### CMA-ES for minimizing the deviation s.t. the STL is violated (robustness value <= 0)"
   ]
  },
  {
   "cell_type": "code",
   "execution_count": null,
   "id": "17d262b0",
   "metadata": {},
   "outputs": [],
   "source": [
    "# set initial variable values to the default value\n",
    "x0 = normalize_x(x_original, bounds); x0\n",
    "sigma0 = 0.2\n",
    "\n",
    "cfun = cma.ConstrainedFitnessAL(scaled_min_deviation, lambda x: [scaled_STL_robustness(x)], find_feasible_first=True)\n",
    "x, es = cma.fmin2(cfun, x0, sigma0, {'bounds': [0.0, 1.0], 'tolstagnation': 0}, callback=cfun.update)"
   ]
  },
  {
   "cell_type": "code",
   "execution_count": null,
   "id": "2861e003",
   "metadata": {},
   "outputs": [],
   "source": [
    "x = es.result.xfavorite  # the original x-value may be meaningless\n",
    "print(\"Solution:\", scale_x(x, bounds))\n",
    "print(\"Worst-case robustness value:\", scaled_STL_robustness(x))  # show constraint violation values"
   ]
  },
  {
   "cell_type": "code",
   "execution_count": null,
   "id": "9a1b3173",
   "metadata": {},
   "outputs": [],
   "source": [
    "# plt.rc('font', size=14) \n",
    "\n",
    "es.plot()\n",
    "\n",
    "fig = plt.gcf()\n",
    "fig.set_figwidth(18)\n",
    "fig.set_figheight(18)\n",
    "fig.title.set_fontsize(14)\n",
    "fig.xaxis.label.set_fontsize(14)\n",
    "fig.yaxis.label.set_fontsize(14)"
   ]
  },
  {
   "cell_type": "code",
   "execution_count": null,
   "id": "9de4b7f8",
   "metadata": {},
   "outputs": [],
   "source": [
    "cfun.al.loggers.plot()\n",
    "\n",
    "fig = plt.gcf()\n",
    "fig.set_figwidth(18)\n",
    "fig.set_figheight(18)\n",
    "fig.title.set_fontsize(14)\n",
    "fig.xaxis.label.set_fontsize(14)\n",
    "fig.yaxis.label.set_fontsize(14)"
   ]
  },
  {
   "cell_type": "code",
   "execution_count": null,
   "id": "0443c39c",
   "metadata": {},
   "outputs": [],
   "source": [
    "cfun.best_feas.info"
   ]
  },
  {
   "cell_type": "code",
   "execution_count": null,
   "id": "61240072",
   "metadata": {},
   "outputs": [],
   "source": [
    "x = cfun.best_feas.info['x']\n",
    "print(\"Solution:\", scale_x(x, bounds))\n",
    "print(\"Worst-case robustness value:\", scaled_STL_robustness(x))  # show constraint violation values"
   ]
  },
  {
   "cell_type": "code",
   "execution_count": null,
   "id": "d7248ba7",
   "metadata": {},
   "outputs": [],
   "source": [
    "c = es.countiter\n",
    "x = cfun.find_feasible(es)\n",
    "print(\"find_feasible took {} iterations\".format(es.countiter - c))\n",
    "print(\"Solution:\", scale_x(x, bounds))\n",
    "print(\"Worst-case robustness value:\", scaled_STL_robustness(x))  # show constraint violation values"
   ]
  },
  {
   "cell_type": "markdown",
   "id": "ea89ba1f",
   "metadata": {},
   "source": [
    "### Use CMAES to minimize the STL robustness of some env deviation"
   ]
  },
  {
   "cell_type": "code",
   "execution_count": null,
   "id": "f71b2857",
   "metadata": {},
   "outputs": [],
   "source": [
    "# set initial variable values to the default value\n",
    "x0 = normalize_x(x_original, bounds); x0\n",
    "sigma0 = 0.2\n",
    "\n",
    "x, es = cma.fmin2(scaled_STL_robustness, x0, sigma0, {'bounds': [0.0, 1.0]})"
   ]
  },
  {
   "cell_type": "code",
   "execution_count": null,
   "id": "d55ff42b",
   "metadata": {},
   "outputs": [],
   "source": [
    "print(\"Solution:\", scale_x(x, bounds))\n",
    "print(\"Worst-case robustness value:\", scaled_STL_robustness(x))  # show constraint violation values"
   ]
  },
  {
   "cell_type": "markdown",
   "id": "0398928f",
   "metadata": {},
   "source": [
    "### Use CMAES to minimize the STL robustness of some initial value"
   ]
  },
  {
   "cell_type": "code",
   "execution_count": 35,
   "id": "97812bcd",
   "metadata": {},
   "outputs": [
    {
     "data": {
      "text/plain": [
       "array([[-0.05,  0.05],\n",
       "       [-0.05,  0.05],\n",
       "       [-0.05,  0.05],\n",
       "       [-0.05,  0.05]])"
      ]
     },
     "execution_count": 35,
     "metadata": {},
     "output_type": "execute_result"
    }
   ],
   "source": [
    "# define the range of the initial set\n",
    "init_range = np.repeat([[-0.05, 0.05]], 4, axis=0); init_range"
   ]
  },
  {
   "cell_type": "code",
   "execution_count": 38,
   "id": "21148693",
   "metadata": {},
   "outputs": [
    {
     "data": {
      "text/plain": [
       "array([-0.04, -0.03, -0.02, -0.01])"
      ]
     },
     "execution_count": 38,
     "metadata": {},
     "output_type": "execute_result"
    }
   ],
   "source": [
    "# define the objective function, i.e., the robustness value of one run\n",
    "# the input x is in the original domain\n",
    "def robustness_of_one_run(x):\n",
    "    "
   ]
  },
  {
   "cell_type": "markdown",
   "id": "5af5d46d",
   "metadata": {},
   "source": [
    "## Use SLSQP"
   ]
  },
  {
   "cell_type": "code",
   "execution_count": null,
   "id": "a7eb17db",
   "metadata": {},
   "outputs": [],
   "source": [
    "from scipy import optimize\n",
    "\n",
    "res = optimize.minimize(\n",
    "    min_deviation,\n",
    "    x0,\n",
    "    method='SLSQP',\n",
    "    bounds=np.repeat([[0.0, 1.0]], len(x0), axis=0),\n",
    "    constraints=[\n",
    "        { 'type': 'ineq', 'fun': lambda x: -STL_robustness(x) } # STL_robustness(x) <= 0\n",
    "    ]\n",
    ")\n",
    "print(res)"
   ]
  },
  {
   "cell_type": "code",
   "execution_count": null,
   "id": "3ba09743",
   "metadata": {},
   "outputs": [],
   "source": []
  }
 ],
 "metadata": {
  "kernelspec": {
   "display_name": "Python 3 (ipykernel)",
   "language": "python",
   "name": "python3"
  },
  "language_info": {
   "codemirror_mode": {
    "name": "ipython",
    "version": 3
   },
   "file_extension": ".py",
   "mimetype": "text/x-python",
   "name": "python",
   "nbconvert_exporter": "python",
   "pygments_lexer": "ipython3",
   "version": "3.8.10"
  }
 },
 "nbformat": 4,
 "nbformat_minor": 5
}
