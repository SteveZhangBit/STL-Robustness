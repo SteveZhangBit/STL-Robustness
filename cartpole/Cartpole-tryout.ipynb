{
 "cells": [
  {
   "cell_type": "code",
   "execution_count": 1,
   "id": "de0176a0-2fd7-401f-8bff-f775780957eb",
   "metadata": {},
   "outputs": [],
   "source": [
    "from IPython import display\n",
    "import matplotlib.pyplot as plt\n",
    "%matplotlib inline\n",
    "\n",
    "import gym"
   ]
  },
  {
   "cell_type": "code",
   "execution_count": 2,
   "id": "bddaddab",
   "metadata": {},
   "outputs": [
    {
     "name": "stdout",
     "output_type": "stream",
     "text": [
      "The observation space: Box([-4.8000002e+00 -3.4028235e+38 -4.1887903e-01 -3.4028235e+38], [4.8000002e+00 3.4028235e+38 4.1887903e-01 3.4028235e+38], (4,), float32)\n",
      "The action space: Discrete(2)\n"
     ]
    }
   ],
   "source": [
    "# Load the environment\n",
    "env = gym.make('CartPole-v1')\n",
    "print(f\"The observation space: {env.observation_space}\")\n",
    "print(f\"The action space: {env.action_space}\")"
   ]
  },
  {
   "cell_type": "code",
   "execution_count": 3,
   "id": "df4deb6f",
   "metadata": {},
   "outputs": [],
   "source": [
    "def init_fig(env):\n",
    "    plt.figure()\n",
    "    plt.title(f\"{env.spec.id} | Episode: 0 | Step: 0 | Reward: 0.0\")\n",
    "    plt.axis('off')\n",
    "    return plt.imshow(env.render(mode='rgb_array'))\n",
    "\n",
    "def update_fig(img, env, episode, step, total_reward):\n",
    "    plt.title(f\"{env.spec.id} | Episode: {episode} | Step: {step} | Reward: {total_reward}\")\n",
    "    img.set_data(env.render(mode='rgb_array'))\n",
    "    display.display(plt.gcf())\n",
    "    display.clear_output(wait=True)"
   ]
  },
  {
   "cell_type": "code",
   "execution_count": 4,
   "id": "c5acacf6-7117-48a9-ab1f-612b91623e85",
   "metadata": {},
   "outputs": [],
   "source": [
    "import time\n",
    "import numpy as np\n",
    "\n",
    "def experiment(env, next_action, num_steps=1000, max_episodes=10, record_obs=False,\n",
    "               visualize_in_notebook=True, sleep=0.01):\n",
    "    # initialize counters\n",
    "    episode = 1\n",
    "    step = 0\n",
    "    total_reward = 0.0\n",
    "    episode_rewards = []\n",
    "\n",
    "    # reset env\n",
    "    obs = env.reset()\n",
    "\n",
    "    # initialize figure in notebook\n",
    "    if visualize_in_notebook:\n",
    "        img = init_fig(env)\n",
    "    \n",
    "    # initialize recorder for observations (for STL)\n",
    "    obs_records = []\n",
    "    cur_record = []\n",
    "\n",
    "    for _ in range(num_steps):\n",
    "        if record_obs:\n",
    "            cur_record.append(obs)\n",
    "        \n",
    "        action = next_action(obs)\n",
    "        obs, reward, done, info = env.step(action)\n",
    "        step += 1\n",
    "        total_reward += reward\n",
    "\n",
    "        if visualize_in_notebook:\n",
    "            update_fig(img, env, episode, step, total_reward)\n",
    "        else:\n",
    "            env.render()\n",
    "\n",
    "        if done:\n",
    "            episode_rewards.append(total_reward)\n",
    "            obs_records.append(cur_record)\n",
    "            \n",
    "            episode += 1\n",
    "            step = 0\n",
    "            total_reward = 0.0\n",
    "            cur_record = []\n",
    "            \n",
    "            env.reset()\n",
    "            \n",
    "            if episode > max_episodes:\n",
    "                break\n",
    "            \n",
    "            time.sleep(1)\n",
    "\n",
    "        if sleep > 0.0:\n",
    "            time.sleep(sleep)\n",
    "    \n",
    "    if len(episode_rewards) > 0:\n",
    "        print(f\"Rewards: {episode_rewards}\")\n",
    "        print(f\"Mean reward of {len(episode_rewards)} completed episodes: {np.mean(episode_rewards)}\")\n",
    "        print(f\"Std reward of {len(episode_rewards)} completed episodes: {np.std(episode_rewards)}\")\n",
    "    \n",
    "    return obs_records"
   ]
  },
  {
   "cell_type": "code",
   "execution_count": 7,
   "id": "8500b958",
   "metadata": {},
   "outputs": [
    {
     "name": "stdout",
     "output_type": "stream",
     "text": [
      "Rewards: [18.0, 19.0, 62.0]\n",
      "Mean reward of 3 completed episodes: 33.0\n",
      "Std reward of 3 completed episodes: 20.51016008388688\n"
     ]
    },
    {
     "data": {
      "image/png": "[encoded data removed]",
      "text/plain": [
       "<Figure size 432x288 with 1 Axes>"
      ]
     },
     "metadata": {
      "needs_background": "light"
     },
     "output_type": "display_data"
    }
   ],
   "source": [
    "# Run the env by randoming sampling an action\n",
    "_ = experiment(env, lambda obs: env.action_space.sample(), num_steps=100)"
   ]
  },
  {
   "cell_type": "code",
   "execution_count": 8,
   "id": "1d33fc71-9f41-4345-a210-f6fd84165ee7",
   "metadata": {},
   "outputs": [],
   "source": [
    "# Train a simple DQN\n",
    "from stable_baselines3 import DQN\n",
    "\n",
    "# model_dqn = DQN(\"MlpPolicy\", env, verbose=1)\n",
    "# model_dqn.learn(total_timesteps=100000)\n",
    "# model_dqn.save(\"dqn_cartpole\")\n",
    "\n",
    "model_dqn = DQN.load(\"dqn_cartpole\")"
   ]
  },
  {
   "cell_type": "code",
   "execution_count": 6,
   "id": "9dfde155",
   "metadata": {},
   "outputs": [],
   "source": [
    "from stable_baselines3 import PPO\n",
    "\n",
    "# model_ppo = PPO(\"MlpPolicy\", env, verbose=1)\n",
    "# model_ppo.learn(total_timesteps=20000)\n",
    "# model_ppo.save(\"ppo_2_cartpole\")\n",
    "\n",
    "model_ppo = PPO.load(\"best_model\")"
   ]
  },
  {
   "cell_type": "code",
   "execution_count": 7,
   "id": "b6dced36",
   "metadata": {},
   "outputs": [
    {
     "ename": "NameError",
     "evalue": "name 'model_dqn' is not defined",
     "output_type": "error",
     "traceback": [
      "\u001b[0;31m---------------------------------------------------------------------------\u001b[0m",
      "\u001b[0;31mNameError\u001b[0m                                 Traceback (most recent call last)",
      "Input \u001b[0;32mIn [7]\u001b[0m, in \u001b[0;36m<cell line: 2>\u001b[0;34m()\u001b[0m\n\u001b[1;32m      1\u001b[0m \u001b[38;5;66;03m# Run the trained controller\u001b[39;00m\n\u001b[0;32m----> 2\u001b[0m _ \u001b[38;5;241m=\u001b[39m \u001b[43mexperiment\u001b[49m\u001b[43m(\u001b[49m\u001b[43menv\u001b[49m\u001b[43m,\u001b[49m\u001b[43m \u001b[49m\u001b[38;5;28;43;01mlambda\u001b[39;49;00m\u001b[43m \u001b[49m\u001b[43mobs\u001b[49m\u001b[43m:\u001b[49m\u001b[43m \u001b[49m\u001b[43mmodel_dqn\u001b[49m\u001b[38;5;241;43m.\u001b[39;49m\u001b[43mpredict\u001b[49m\u001b[43m(\u001b[49m\u001b[43mobs\u001b[49m\u001b[43m)\u001b[49m\u001b[43m[\u001b[49m\u001b[38;5;241;43m0\u001b[39;49m\u001b[43m]\u001b[49m\u001b[43m,\u001b[49m\u001b[43m \u001b[49m\u001b[43mnum_steps\u001b[49m\u001b[38;5;241;43m=\u001b[39;49m\u001b[38;5;241;43m1000\u001b[39;49m\u001b[43m)\u001b[49m\n",
      "Input \u001b[0;32mIn [4]\u001b[0m, in \u001b[0;36mexperiment\u001b[0;34m(env, next_action, num_steps, max_episodes, record_obs, visualize_in_notebook, sleep)\u001b[0m\n\u001b[1;32m     24\u001b[0m \u001b[38;5;28;01mif\u001b[39;00m record_obs:\n\u001b[1;32m     25\u001b[0m     cur_record\u001b[38;5;241m.\u001b[39mappend(obs)\n\u001b[0;32m---> 27\u001b[0m action \u001b[38;5;241m=\u001b[39m \u001b[43mnext_action\u001b[49m\u001b[43m(\u001b[49m\u001b[43mobs\u001b[49m\u001b[43m)\u001b[49m\n\u001b[1;32m     28\u001b[0m obs, reward, done, info \u001b[38;5;241m=\u001b[39m env\u001b[38;5;241m.\u001b[39mstep(action)\n\u001b[1;32m     29\u001b[0m step \u001b[38;5;241m+\u001b[39m\u001b[38;5;241m=\u001b[39m \u001b[38;5;241m1\u001b[39m\n",
      "Input \u001b[0;32mIn [7]\u001b[0m, in \u001b[0;36m<lambda>\u001b[0;34m(obs)\u001b[0m\n\u001b[1;32m      1\u001b[0m \u001b[38;5;66;03m# Run the trained controller\u001b[39;00m\n\u001b[0;32m----> 2\u001b[0m _ \u001b[38;5;241m=\u001b[39m experiment(env, \u001b[38;5;28;01mlambda\u001b[39;00m obs: \u001b[43mmodel_dqn\u001b[49m\u001b[38;5;241m.\u001b[39mpredict(obs)[\u001b[38;5;241m0\u001b[39m], num_steps\u001b[38;5;241m=\u001b[39m\u001b[38;5;241m1000\u001b[39m)\n",
      "\u001b[0;31mNameError\u001b[0m: name 'model_dqn' is not defined"
     ]
    },
    {
     "data": {
      "image/png": "[encoded data removed]",
      "text/plain": [
       "<Figure size 432x288 with 1 Axes>"
      ]
     },
     "metadata": {
      "needs_background": "light"
     },
     "output_type": "display_data"
    }
   ],
   "source": [
    "# Run the trained controller\n",
    "_ = experiment(env, lambda obs: model_dqn.predict(obs)[0], num_steps=100)"
   ]
  },
  {
   "cell_type": "code",
   "execution_count": 8,
   "id": "47c4caae",
   "metadata": {},
   "outputs": [
    {
     "name": "stdout",
     "output_type": "stream",
     "text": [
      "Rewards: [500.0, 500.0]\n",
      "Mean reward of 2 completed episodes: 500.0\n",
      "Std reward of 2 completed episodes: 0.0\n"
     ]
    },
    {
     "data": {
      "image/png": "[encoded data removed]",
      "text/plain": [
       "<Figure size 432x288 with 1 Axes>"
      ]
     },
     "metadata": {
      "needs_background": "light"
     },
     "output_type": "display_data"
    }
   ],
   "source": [
    "_ = experiment(env, lambda obs: model_ppo.predict(obs)[0], num_steps=1000)"
   ]
  },
  {
   "cell_type": "code",
   "execution_count": 9,
   "id": "bd26919b",
   "metadata": {},
   "outputs": [],
   "source": [
    "env.close()"
   ]
  },
  {
   "cell_type": "code",
   "execution_count": 10,
   "id": "9882cf7a",
   "metadata": {},
   "outputs": [],
   "source": [
    "# Create a mutated environment\n",
    "from gym.envs.classic_control import CartPoleEnv\n",
    "from gym.wrappers.time_limit import TimeLimit\n",
    "from types import SimpleNamespace\n",
    "\n",
    "class MutatedCartPoleEnv(CartPoleEnv):\n",
    "    def __init__(self, masscart = 1.0, masspole = 0.1, length = 0.5, force_mag = 10.0):\n",
    "        super().__init__()\n",
    "        \n",
    "        self.spec = SimpleNamespace()\n",
    "        self.spec.id = f\"MutatedCartPole-{masscart}-{masspole}-{length}-{force_mag}\"\n",
    "        \n",
    "        self.gravity = 9.8\n",
    "        self.masscart = masscart\n",
    "        self.masspole = masspole\n",
    "        self.total_mass = self.masspole + self.masscart\n",
    "        self.length = length  # actually half the pole's length\n",
    "        self.polemass_length = self.masspole * self.length\n",
    "        self.force_mag = force_mag\n",
    "        self.tau = 0.02  # seconds between state updates"
   ]
  },
  {
   "cell_type": "code",
   "execution_count": 14,
   "id": "898de312",
   "metadata": {},
   "outputs": [
    {
     "name": "stdout",
     "output_type": "stream",
     "text": [
      "Rewards: [91.0]\n",
      "Mean reward of 1 completed episodes: 91.0\n",
      "Std reward of 1 completed episodes: 0.0\n"
     ]
    },
    {
     "data": {
      "image/png": "[encoded data removed]",
      "text/plain": [
       "<Figure size 432x288 with 1 Axes>"
      ]
     },
     "metadata": {
      "needs_background": "light"
     },
     "output_type": "display_data"
    }
   ],
   "source": [
    "mutated_env1 = TimeLimit(MutatedCartPoleEnv(), max_episode_steps=500)\n",
    "records1 = experiment(mutated_env1, lambda obs: model_ppo.predict(obs)[0],\n",
    "                      sleep=0.0, num_steps=10_000, record_obs=True, max_episodes=1)\n",
    "mutated_env1.close()"
   ]
  },
  {
   "cell_type": "code",
   "execution_count": 13,
   "id": "57d8e6e9",
   "metadata": {},
   "outputs": [
    {
     "name": "stdout",
     "output_type": "stream",
     "text": [
      "Rewards: [110.0]\n",
      "Mean reward of 1 completed episodes: 110.0\n",
      "Std reward of 1 completed episodes: 0.0\n"
     ]
    },
    {
     "data": {
      "image/png": "[encoded data removed]",
      "text/plain": [
       "<Figure size 432x288 with 1 Axes>"
      ]
     },
     "metadata": {
      "needs_background": "light"
     },
     "output_type": "display_data"
    }
   ],
   "source": [
    "mutated_env2 = TimeLimit(MutatedCartPoleEnv(masscart=0.1), max_episode_steps=500)\n",
    "records2 = experiment(mutated_env2, lambda obs: model_ppo.predict(obs)[0],\n",
    "                      sleep=0.0, num_steps=10_000, record_obs=True, max_episodes=1)\n",
    "mutated_env2.close()"
   ]
  },
  {
   "cell_type": "code",
   "execution_count": 16,
   "id": "e220536b",
   "metadata": {},
   "outputs": [
    {
     "data": {
      "text/html": [
       "<div>\n",
       "<style scoped>\n",
       "    .dataframe tbody tr th:only-of-type {\n",
       "        vertical-align: middle;\n",
       "    }\n",
       "\n",
       "    .dataframe tbody tr th {\n",
       "        vertical-align: top;\n",
       "    }\n",
       "\n",
       "    .dataframe thead th {\n",
       "        text-align: right;\n",
       "    }\n",
       "</style>\n",
       "<table border=\"1\" class=\"dataframe\">\n",
       "  <thead>\n",
       "    <tr style=\"text-align: right;\">\n",
       "      <th></th>\n",
       "      <th>Cart Position</th>\n",
       "      <th>Cart Velocity</th>\n",
       "      <th>Pole Angle</th>\n",
       "      <th>Angular Velocity</th>\n",
       "    </tr>\n",
       "  </thead>\n",
       "  <tbody>\n",
       "    <tr>\n",
       "      <th>0</th>\n",
       "      <td>0.008016</td>\n",
       "      <td>0.021849</td>\n",
       "      <td>-0.020350</td>\n",
       "      <td>0.042467</td>\n",
       "    </tr>\n",
       "    <tr>\n",
       "      <th>1</th>\n",
       "      <td>0.008453</td>\n",
       "      <td>-0.172975</td>\n",
       "      <td>-0.019500</td>\n",
       "      <td>0.328661</td>\n",
       "    </tr>\n",
       "    <tr>\n",
       "      <th>2</th>\n",
       "      <td>0.004994</td>\n",
       "      <td>0.022419</td>\n",
       "      <td>-0.012927</td>\n",
       "      <td>0.029893</td>\n",
       "    </tr>\n",
       "    <tr>\n",
       "      <th>3</th>\n",
       "      <td>0.005442</td>\n",
       "      <td>-0.172515</td>\n",
       "      <td>-0.012329</td>\n",
       "      <td>0.318469</td>\n",
       "    </tr>\n",
       "    <tr>\n",
       "      <th>4</th>\n",
       "      <td>0.001992</td>\n",
       "      <td>0.022780</td>\n",
       "      <td>-0.005960</td>\n",
       "      <td>0.021923</td>\n",
       "    </tr>\n",
       "  </tbody>\n",
       "</table>\n",
       "</div>"
      ],
      "text/plain": [
       "   Cart Position  Cart Velocity  Pole Angle  Angular Velocity\n",
       "0       0.008016       0.021849   -0.020350          0.042467\n",
       "1       0.008453      -0.172975   -0.019500          0.328661\n",
       "2       0.004994       0.022419   -0.012927          0.029893\n",
       "3       0.005442      -0.172515   -0.012329          0.318469\n",
       "4       0.001992       0.022780   -0.005960          0.021923"
      ]
     },
     "execution_count": 16,
     "metadata": {},
     "output_type": "execute_result"
    }
   ],
   "source": [
    "import pandas as pd\n",
    "\n",
    "data = pd.DataFrame(\n",
    "    records1[0],\n",
    "    columns=['Cart Position', 'Cart Velocity', 'Pole Angle', 'Angular Velocity']\n",
    "); data[:5]"
   ]
  },
  {
   "cell_type": "code",
   "execution_count": 17,
   "id": "cd79f374",
   "metadata": {},
   "outputs": [
    {
     "data": {
      "text/plain": [
       "<AxesSubplot:>"
      ]
     },
     "execution_count": 17,
     "metadata": {},
     "output_type": "execute_result"
    },
    {
     "data": {
      "image/png": "[encoded data removed]",
      "text/plain": [
       "<Figure size 432x288 with 1 Axes>"
      ]
     },
     "metadata": {
      "needs_background": "light"
     },
     "output_type": "display_data"
    }
   ],
   "source": [
    "data['Cart Position'].plot()"
   ]
  },
  {
   "cell_type": "code",
   "execution_count": 18,
   "id": "764f8ba7",
   "metadata": {},
   "outputs": [
    {
     "data": {
      "text/plain": [
       "<AxesSubplot:>"
      ]
     },
     "execution_count": 18,
     "metadata": {},
     "output_type": "execute_result"
    },
    {
     "data": {
      "image/png": "[encoded data removed]",
      "text/plain": [
       "<Figure size 432x288 with 1 Axes>"
      ]
     },
     "metadata": {
      "needs_background": "light"
     },
     "output_type": "display_data"
    }
   ],
   "source": [
    "data['Pole Angle'].plot()"
   ]
  },
  {
   "cell_type": "code",
   "execution_count": 19,
   "id": "93502255",
   "metadata": {},
   "outputs": [
    {
     "ename": "ModuleNotFoundError",
     "evalue": "No module named 'signal_tl'",
     "output_type": "error",
     "traceback": [
      "\u001b[1;31m---------------------------------------------------------------------------\u001b[0m",
      "\u001b[1;31mModuleNotFoundError\u001b[0m                       Traceback (most recent call last)",
      "Input \u001b[1;32mIn [19]\u001b[0m, in \u001b[0;36m<cell line: 3>\u001b[1;34m()\u001b[0m\n\u001b[0;32m      1\u001b[0m \u001b[38;5;66;03m# Compute robustness value of the STL formula:\u001b[39;00m\n\u001b[0;32m      2\u001b[0m \u001b[38;5;66;03m#   G ( pos > -2.4 & pos < 2.4 & angle > -12 degree & angle < 12 degree )\u001b[39;00m\n\u001b[1;32m----> 3\u001b[0m \u001b[38;5;28;01mimport\u001b[39;00m \u001b[38;5;21;01msignal_tl\u001b[39;00m \u001b[38;5;28;01mas\u001b[39;00m \u001b[38;5;21;01mstl\u001b[39;00m\n\u001b[0;32m      4\u001b[0m \u001b[38;5;28;01mimport\u001b[39;00m \u001b[38;5;21;01mmath\u001b[39;00m\n\u001b[0;32m      6\u001b[0m pos \u001b[38;5;241m=\u001b[39m stl\u001b[38;5;241m.\u001b[39mPredicate(\u001b[38;5;124m'\u001b[39m\u001b[38;5;124mpos\u001b[39m\u001b[38;5;124m'\u001b[39m)\n",
      "\u001b[1;31mModuleNotFoundError\u001b[0m: No module named 'signal_tl'"
     ]
    }
   ],
   "source": [
    "# Compute robustness value of the STL formula:\n",
    "#   G ( pos > -2.4 & pos < 2.4 & angle > -12 degree & angle < 12 degree )\n",
    "import signal_tl as stl\n",
    "import math\n",
    "\n",
    "pos = stl.Predicate('pos')\n",
    "angle = stl.Predicate('angle')\n",
    "\n",
    "pos_threshold = 2.4\n",
    "angle_threshold = 12 * 2 * math.pi / 360\n",
    "\n",
    "phi = stl.Always(\n",
    "    (pos > -pos_threshold) &\\\n",
    "    (pos < pos_threshold) &\\\n",
    "    (angle > -angle_threshold) &\\\n",
    "    (angle < angle_threshold)\n",
    ")\n",
    "\n",
    "time_index = np.arange(len(data))\n",
    "trace = {\n",
    "    \"pos\": stl.Signal(data['Cart Position'], time_index),\n",
    "    \"angle\": stl.Signal(data['Pole Angle'], time_index)\n",
    "}\n",
    "\n",
    "rob = stl.compute_robustness(phi, trace)\n",
    "rob.at(0)"
   ]
  },
  {
   "cell_type": "code",
   "execution_count": null,
   "id": "1ff79652",
   "metadata": {},
   "outputs": [],
   "source": []
  }
 ],
 "metadata": {
  "kernelspec": {
   "display_name": "Python 3 (ipykernel)",
   "language": "python",
   "name": "python3"
  },
  "language_info": {
   "codemirror_mode": {
    "name": "ipython",
    "version": 3
   },
   "file_extension": ".py",
   "mimetype": "text/x-python",
   "name": "python",
   "nbconvert_exporter": "python",
   "pygments_lexer": "ipython3",
   "version": "3.8.10"
  }
 },
 "nbformat": 4,
 "nbformat_minor": 5
}
