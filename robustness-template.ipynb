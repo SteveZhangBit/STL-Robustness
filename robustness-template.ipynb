{
 "cells": [
  {
   "cell_type": "code",
   "execution_count": null,
   "id": "7ec4c53f",
   "metadata": {},
   "outputs": [],
   "source": [
    "%run ../Commons.ipynb"
   ]
  },
  {
   "cell_type": "markdown",
   "id": "d916cf8e",
   "metadata": {},
   "source": [
    "## Config your environment and agent"
   ]
  },
  {
   "cell_type": "markdown",
   "id": "e06bb67b",
   "metadata": {},
   "source": [
    "### TODO: Define the environment"
   ]
  },
  {
   "cell_type": "code",
   "execution_count": null,
   "id": "0620aaad",
   "metadata": {},
   "outputs": [],
   "source": [
    "# define the range of the deviation parameters\n",
    "# dev_bounds = \n",
    "\n",
    "# define the range of the variables to falsify\n",
    "# falsify_range = \n",
    "\n",
    "# define the deviation parameter value for the original environment (no deviation)\n",
    "# x_original = "
   ]
  },
  {
   "cell_type": "code",
   "execution_count": null,
   "id": "51f6b71c",
   "metadata": {},
   "outputs": [],
   "source": [
    "def build_env(x):\n",
    "    \"\"\"\n",
    "    Create the environment given the deviation parameter in its original (non-normalized) domain.\n",
    "    \"\"\"\n",
    "    pass"
   ]
  },
  {
   "cell_type": "markdown",
   "id": "e3fa733d",
   "metadata": {},
   "source": [
    "### TODO: Define Agent"
   ]
  },
  {
   "cell_type": "code",
   "execution_count": null,
   "id": "65037681",
   "metadata": {},
   "outputs": [],
   "source": [
    "# define the action generation function of the given agent\n",
    "# next_action = \n",
    "\n",
    "# some agents (like PID) needs to be reset for each run\n",
    "# model_reset = None"
   ]
  },
  {
   "cell_type": "markdown",
   "id": "78a73fce",
   "metadata": {},
   "source": [
    "### TODO: Define STL property"
   ]
  },
  {
   "cell_type": "code",
   "execution_count": null,
   "id": "268cf428",
   "metadata": {},
   "outputs": [],
   "source": [
    "def build_stl_prop():\n",
    "    pass\n",
    "\n",
    "def build_stl_trace(records, time_index):\n",
    "    pass\n",
    "\n",
    "def is_stl_violated(rob):\n",
    "    pass\n",
    "\n",
    "phi = build_stl_prop()"
   ]
  },
  {
   "cell_type": "markdown",
   "id": "febd16c0",
   "metadata": {},
   "source": [
    "### TODO: Config global options and functions"
   ]
  },
  {
   "cell_type": "code",
   "execution_count": null,
   "id": "caf80baf",
   "metadata": {},
   "outputs": [],
   "source": [
    "# seed = \n",
    "\n",
    "# define the max epsiode steps when evaluating a given environment\n",
    "# max_episode_steps = 200\n",
    "\n",
    "# define the max episodes to run when falsifying a given environment (under some deviation)\n",
    "# max_episodes = 100\n",
    "\n",
    "# define the target STL robustness value when falsification, i.e., CMA would stop search\n",
    "# when an instance of such value is found.\n",
    "# stl_falsify_target = -np.inf\n",
    "\n",
    "# timeout in minutes\n",
    "# timeout = 30\n",
    "\n",
    "# Could change this value for different trials within the total timeout\n",
    "# num_tries = 3"
   ]
  },
  {
   "cell_type": "markdown",
   "id": "3d1b7f52",
   "metadata": {},
   "source": [
    "## Robustness analysis starts here!"
   ]
  },
  {
   "cell_type": "markdown",
   "id": "d6c84179",
   "metadata": {},
   "source": [
    "### The agent should be safe under the original environment by falsification"
   ]
  },
  {
   "cell_type": "code",
   "execution_count": null,
   "id": "c1393512",
   "metadata": {},
   "outputs": [],
   "source": [
    "evaluate_dev(x_original, \"gifs/default_env.gif\")"
   ]
  },
  {
   "cell_type": "markdown",
   "id": "36bb6ba6",
   "metadata": {},
   "source": [
    "### CMA for minimizing the STL robustness value given the bounded deviation"
   ]
  },
  {
   "cell_type": "code",
   "execution_count": null,
   "id": "da7c0f70",
   "metadata": {},
   "outputs": [],
   "source": [
    "x = dev_violates_stl()"
   ]
  },
  {
   "cell_type": "code",
   "execution_count": null,
   "id": "ce58d5a3",
   "metadata": {},
   "outputs": [],
   "source": [
    "evaluate_dev(x, \"gifs/counterexample.gif\")"
   ]
  },
  {
   "cell_type": "markdown",
   "id": "d2c406c3",
   "metadata": {},
   "source": [
    "### CMA-ES for minimizing the deviation s.t. the STL is violated."
   ]
  },
  {
   "cell_type": "code",
   "execution_count": null,
   "id": "ffdbe3e9",
   "metadata": {},
   "outputs": [],
   "source": [
    "x = min_dev_violates_stl()"
   ]
  },
  {
   "cell_type": "code",
   "execution_count": null,
   "id": "118e9277",
   "metadata": {},
   "outputs": [],
   "source": [
    "evaluate_dev(x, \"gifs/min_dev_counterexample.gif\")"
   ]
  },
  {
   "cell_type": "markdown",
   "id": "49591c94",
   "metadata": {},
   "source": [
    "### [Optional] CMA for finding the maximum deviation s.t. the agent is safe"
   ]
  },
  {
   "cell_type": "code",
   "execution_count": null,
   "id": "ceb97dc8",
   "metadata": {},
   "outputs": [],
   "source": [
    "x = max_safe_dev()"
   ]
  },
  {
   "cell_type": "code",
   "execution_count": null,
   "id": "034f3ab3",
   "metadata": {},
   "outputs": [],
   "source": [
    "evaluate_dev(x, \"gifs/max_safe_deviation.gif\")"
   ]
  },
  {
   "cell_type": "code",
   "execution_count": null,
   "id": "5b7554d7",
   "metadata": {},
   "outputs": [],
   "source": []
  }
 ],
 "metadata": {
  "kernelspec": {
   "display_name": "Python 3 (ipykernel)",
   "language": "python",
   "name": "python3"
  },
  "language_info": {
   "codemirror_mode": {
    "name": "ipython",
    "version": 3
   },
   "file_extension": ".py",
   "mimetype": "text/x-python",
   "name": "python",
   "nbconvert_exporter": "python",
   "pygments_lexer": "ipython3",
   "version": "3.8.10"
  }
 },
 "nbformat": 4,
 "nbformat_minor": 5
}
