{
 "cells": [
  {
   "cell_type": "markdown",
   "id": "5a0941a2",
   "metadata": {},
   "source": [
    "## Helper functions"
   ]
  },
  {
   "cell_type": "markdown",
   "id": "59d4e797",
   "metadata": {},
   "source": [
    "### Visualization helpers"
   ]
  },
  {
   "cell_type": "code",
   "execution_count": null,
   "id": "a9125c06",
   "metadata": {},
   "outputs": [],
   "source": [
    "import numpy as np\n",
    "from IPython import display\n",
    "import matplotlib.pyplot as plt\n",
    "import time\n",
    "import imageio\n",
    "%matplotlib inline\n",
    "\n",
    "\n",
    "def init_fig(env):\n",
    "    plt.figure()\n",
    "    plt.title(env.spec.id)\n",
    "    plt.axis('off')\n",
    "    return plt.imshow(env.render(mode='rgb_array'))\n",
    "\n",
    "def update_fig(img, env, step, reward, done, stl_rob, stl_violated):\n",
    "    title = plt.title(\n",
    "        f\"{env.spec.id}\\n\" +\n",
    "        f\"Step: {step} | Reward: {reward:.3f} | Done: {done}\\n\" +\n",
    "        f\"STL: {stl_rob[0]:.3f} | Violated: {stl_violated}\"\n",
    "    )\n",
    "    if done or stl_violated:\n",
    "        plt.setp(title, color='r')\n",
    "    else:\n",
    "        plt.setp(title, color='k')\n",
    "    img.set_data(env.render(mode='rgb_array'))\n",
    "    fig = plt.gcf()\n",
    "    display.display(fig)\n",
    "    display.clear_output(wait=True)\n",
    "    \n",
    "    return np.asarray(fig.canvas.buffer_rgba())\n",
    "\n",
    "def visual_episode(env, next_action, compute_stl_rob, is_stl_violated,\n",
    "                   max_episode_steps=100, reset_to=None, visualize_in_notebook=True,\n",
    "                   sleep=0.01, save_gif=None, model_reset=None):\n",
    "    if reset_to is not None:\n",
    "        obs = env.reset_to(reset_to)\n",
    "    else:\n",
    "        obs = env.reset()\n",
    "    \n",
    "    if model_reset is not None:\n",
    "        model_reset()\n",
    "    \n",
    "    if save_gif is not None:\n",
    "        gif = []\n",
    "    else:\n",
    "        gif = None\n",
    "\n",
    "    # initialize figure in notebook\n",
    "    if visualize_in_notebook:\n",
    "        img = init_fig(env)\n",
    "\n",
    "    space = env.observation_space\n",
    "    total_reward = 0.0\n",
    "    obs_records = [obs]\n",
    "    \n",
    "    for step in range(1, max_episode_steps+1):\n",
    "        action = next_action(obs)\n",
    "        obs, reward, done, info = env.step(action)\n",
    "        total_reward += reward\n",
    "        obs_records.append(np.clip(obs, space.low, space.high))\n",
    "\n",
    "        if visualize_in_notebook:\n",
    "            rob = compute_stl_rob(np.asarray(obs_records))\n",
    "            fig_data = update_fig(img, env, step, total_reward, done, rob, is_stl_violated(rob))\n",
    "            if save_gif is not None:\n",
    "                gif.append(fig_data)\n",
    "        else:\n",
    "            env.render()\n",
    "\n",
    "        if sleep > 0.0:\n",
    "            time.sleep(sleep)\n",
    "    \n",
    "    if save_gif is not None:\n",
    "        imageio.mimsave(save_gif, [data for data in gif], fps=10)"
   ]
  },
  {
   "cell_type": "code",
   "execution_count": null,
   "id": "a22e6e6d",
   "metadata": {},
   "outputs": [],
   "source": [
    "def visual_deviated_env(x, reset_to, save_gif=None):\n",
    "    env = build_env(x)\n",
    "    env.seed(seed)\n",
    "    visual_episode(env, next_action, compute_stl_rob, is_stl_violated, max_episode_steps=max_episode_steps,\n",
    "                   reset_to=reset_to, save_gif=save_gif, model_reset=model_reset)\n",
    "    env.close()"
   ]
  },
  {
   "cell_type": "markdown",
   "id": "635ab8fd",
   "metadata": {},
   "source": [
    "### Functions for scaling the variable"
   ]
  },
  {
   "cell_type": "code",
   "execution_count": null,
   "id": "690da6ad",
   "metadata": {},
   "outputs": [],
   "source": [
    "def scale(x, bounds):\n",
    "    \"\"\"Scale the input numbers in [0, 1] to the range of each variable\"\"\"\n",
    "    return bounds[:, 0] + x * (bounds[:, 1] - bounds[:, 0])\n",
    "\n",
    "def normalize(x_scaled, bounds):\n",
    "    return (x_scaled - bounds[:, 0]) / (bounds[:, 1] - bounds[:, 0])"
   ]
  },
  {
   "cell_type": "markdown",
   "id": "624598af",
   "metadata": {},
   "source": [
    "### STL robustness computation helpers"
   ]
  },
  {
   "cell_type": "code",
   "execution_count": null,
   "id": "e5dd28c9",
   "metadata": {},
   "outputs": [],
   "source": [
    "import signal_tl as stl\n",
    "\n",
    "def compute_stl_rob(records):\n",
    "    if records.ndim == 2:\n",
    "        records = np.array([records])\n",
    "    \n",
    "    time_index = np.arange(records.shape[1])\n",
    "    robs = []\n",
    "    for i in range(len(records)):\n",
    "        trace = build_stl_trace(records[i], time_index)\n",
    "        rob = stl.compute_robustness(phi, trace)\n",
    "        robs.append(rob.at(0))\n",
    "    \n",
    "    return np.array(robs)"
   ]
  },
  {
   "cell_type": "markdown",
   "id": "1b03b726",
   "metadata": {},
   "source": [
    "### STL falsification helpers"
   ]
  },
  {
   "cell_type": "markdown",
   "id": "7a00807b",
   "metadata": {},
   "source": [
    "#### Falsification by random sampling"
   ]
  },
  {
   "cell_type": "code",
   "execution_count": null,
   "id": "dbe46d56",
   "metadata": {},
   "outputs": [],
   "source": [
    "def random_sample(env):\n",
    "    space = env.observation_space\n",
    "    episode_obs_records = []\n",
    "\n",
    "    for episode in range(max_episodes):\n",
    "        obs = env.reset()\n",
    "        \n",
    "        if model_reset is not None:\n",
    "            model_reset()\n",
    "        \n",
    "        obs_records = [obs]\n",
    "        \n",
    "        for step in range(max_episode_steps):\n",
    "            action = next_action(obs)\n",
    "            obs, reward, done, info = env.step(action)\n",
    "            obs_records.append(np.clip(obs, space.low, space.high))\n",
    "\n",
    "        episode_obs_records.append(obs_records)\n",
    "\n",
    "    return np.array(episode_obs_records)\n",
    "\n",
    "def falsification_by_random_sample(x):\n",
    "    \"\"\"\n",
    "    x is the deviation parameter in its original domain\n",
    "    \"\"\"\n",
    "    env = build_env(x)\n",
    "    env.seed(seed)\n",
    "    records = random_sample(env)\n",
    "    env.close()\n",
    "    return compute_stl_rob(records).min()\n",
    "\n",
    "def scaled_falsification_by_random_sample(x):\n",
    "    \"\"\"\n",
    "    Wrapped falsification function where input x is in [0, 1] and should be scaled to the original domain.\n",
    "    \"\"\"\n",
    "    return falsification_by_random_sample(scale(x, dev_bounds))"
   ]
  },
  {
   "cell_type": "markdown",
   "id": "e504aad9",
   "metadata": {},
   "source": [
    "#### Falsification by CMA"
   ]
  },
  {
   "cell_type": "code",
   "execution_count": null,
   "id": "3a3748bb",
   "metadata": {},
   "outputs": [],
   "source": [
    "import cma\n",
    "\n",
    "def episode_by_init(env, x):\n",
    "    space = env.observation_space\n",
    "    obs = env.reset_to(x)\n",
    "    obs_records = [obs]\n",
    "    \n",
    "    if model_reset is not None:\n",
    "        model_reset()\n",
    "    \n",
    "    for step in range(max_episode_steps):\n",
    "        action = next_action(obs)\n",
    "        obs, reward, done, info = env.step(action)\n",
    "        obs_records.append(np.clip(obs, space.low, space.high))\n",
    "    \n",
    "    return np.array(obs_records)\n",
    "\n",
    "def falsification_by_CMA(x):\n",
    "    env = build_env(x)\n",
    "    env.seed(seed)\n",
    "    \n",
    "    def objective(y):\n",
    "        record = episode_by_init(env, y)\n",
    "        return compute_stl_rob(record)[0]\n",
    "    \n",
    "    y0 = np.zeros(len(falsify_range)) # TODO: https://lig-kobe-grenoble.imag.fr/wp-content/uploads/2018/03/05.-Session-4-presentation-1-Thao-Dang.pdf\n",
    "    sigma0 = 0.2\n",
    "    min_x, es = cma.fmin2(\n",
    "        lambda y: objective(scale(y, falsify_range)),\n",
    "        y0,\n",
    "        sigma0,\n",
    "        {'bounds': [0.0, 1.0], 'maxfeval': max_episodes, 'ftarget': stl_falsify_target,\n",
    "         'verbose': -9, 'seed': seed}\n",
    "    )\n",
    "    \n",
    "    env.close()\n",
    "    return es.result.fbest, scale(min_x, falsify_range)\n",
    "\n",
    "def scaled_falsification_by_CMA(x):\n",
    "    fbest, _ = falsification_by_CMA(scale(x, dev_bounds))\n",
    "    return fbest"
   ]
  },
  {
   "cell_type": "markdown",
   "id": "46b5224a",
   "metadata": {},
   "source": [
    "#### Compare two sampling methods"
   ]
  },
  {
   "cell_type": "code",
   "execution_count": null,
   "id": "8a0ec720",
   "metadata": {},
   "outputs": [],
   "source": [
    "def compare_falsification(trials):\n",
    "    for x in np.random.rand(trials, len(dev_bounds)):\n",
    "        est1 = scaled_falsification_by_random_sample(x)\n",
    "        est2 = scaled_falsification_by_CMA(x)\n",
    "        if est1 < est2:\n",
    "            print(est1, est2, \"Random Sample\")\n",
    "        else:\n",
    "            print(est1, est2, \"CMA\")"
   ]
  },
  {
   "cell_type": "markdown",
   "id": "49a4815e",
   "metadata": {},
   "source": [
    "### Miscs"
   ]
  },
  {
   "cell_type": "code",
   "execution_count": null,
   "id": "e58e68c0",
   "metadata": {},
   "outputs": [],
   "source": [
    "def evaluate_dev(x, gif):\n",
    "    robustness, x_init = falsification_by_CMA(x)\n",
    "    visual_deviated_env(x, x_init, gif)\n",
    "    print(\"Deviation:\", x)\n",
    "    print(\"Deviation distance:\", deviation_dist(x))\n",
    "    print(\"Initial parameter:\", x_init)\n",
    "    print(\"Min robustness value:\", robustness)"
   ]
  },
  {
   "cell_type": "markdown",
   "id": "6eee124d",
   "metadata": {},
   "source": [
    "### Robustness computation helpers"
   ]
  },
  {
   "cell_type": "code",
   "execution_count": null,
   "id": "73e6afbe",
   "metadata": {},
   "outputs": [],
   "source": [
    "import os\n",
    "\n",
    "if not os.path.exists('gifs'):\n",
    "    os.mkdir('gifs')"
   ]
  },
  {
   "cell_type": "code",
   "execution_count": null,
   "id": "861707f3",
   "metadata": {},
   "outputs": [],
   "source": [
    "# l-2 norm distance, the input x is in the original domain\n",
    "def deviation_dist(x):\n",
    "    \"\"\"The variables of the objective function are normalized to [0, 1)\"\"\"\n",
    "    return np.sqrt(np.sum((x - x_original) ** 2))\n",
    "\n",
    "# wrapped objective function where input x is in [0, 1] and should be scaled to the original domain\n",
    "def scaled_deviation_dist(x):\n",
    "    return deviation_dist(scale(x, dev_bounds))"
   ]
  },
  {
   "cell_type": "code",
   "execution_count": null,
   "id": "2d675708",
   "metadata": {},
   "outputs": [],
   "source": [
    "def dev_violates_stl():\n",
    "    x0 = normalize(x_original, dev_bounds)\n",
    "    sigma0 = 0.4\n",
    "\n",
    "    _, es = cma.fmin2(\n",
    "        scaled_falsification_by_CMA,\n",
    "        x0,\n",
    "        sigma0,\n",
    "        {'bounds': [0.0, 1.0], 'ftarget': stl_falsify_target, 'tolstagnation': 0,\n",
    "         'tolx': 1e-5, 'timeout': timeout * 60},\n",
    "    )\n",
    "    print(es.result)\n",
    "    return scale(es.result.xbest, dev_bounds)"
   ]
  },
  {
   "cell_type": "code",
   "execution_count": null,
   "id": "b718292e",
   "metadata": {},
   "outputs": [],
   "source": [
    "def min_dev_violates_stl():\n",
    "    min_dev = np.inf\n",
    "    min_x = None\n",
    "    for i in range(num_tries):\n",
    "        print(f'\\n================ Trial {i} ==============>')\n",
    "\n",
    "        x0 = normalize(x_original, dev_bounds)\n",
    "        sigma0 = 0.2\n",
    "\n",
    "        cfun = cma.ConstrainedFitnessAL(\n",
    "            scaled_deviation_dist,\n",
    "            lambda x: [scaled_falsification_by_CMA(x)],\n",
    "            find_feasible_first=True\n",
    "        )\n",
    "        _, es = cma.fmin2(\n",
    "            cfun,\n",
    "            x0,\n",
    "            sigma0,\n",
    "            {'bounds': [0.0, 1.0], 'tolstagnation': 0, 'tolx': 1e-5,\n",
    "             'timeout': timeout / num_tries * 60},\n",
    "            callback=cfun.update\n",
    "        )\n",
    "\n",
    "        print(es.result)\n",
    "        if cfun.best_feas.info is None:\n",
    "            cfun.find_feasible(es)\n",
    "        print(cfun.best_feas.info)\n",
    "\n",
    "        x = cfun.best_feas.info['x']\n",
    "        dev = deviation_dist(scale(x, dev_bounds))\n",
    "        if dev < min_dev:\n",
    "            min_dev = dev\n",
    "            min_x = x\n",
    "    \n",
    "    return scale(min_x, dev_bounds)"
   ]
  },
  {
   "cell_type": "code",
   "execution_count": null,
   "id": "7ec4c53f",
   "metadata": {},
   "outputs": [],
   "source": [
    "def max_safe_dev():\n",
    "    max_dev = -np.inf\n",
    "    max_x = None\n",
    "    for i in range(num_tries):\n",
    "        print(f'\\n================ Trial {i} ==============>')\n",
    "\n",
    "        x0 = normalize(x_original, dev_bounds)\n",
    "        sigma0 = 0.2\n",
    "\n",
    "        cfun = cma.ConstrainedFitnessAL(\n",
    "            lambda x: -scaled_deviation_dist(x), # maximize distance\n",
    "            lambda x: [-scaled_falsification_by_CMA(x)], # robustness >= 0\n",
    "        #     find_feasible_first=True # assume the initial is already feasible\n",
    "        )\n",
    "        _, es = cma.fmin2(\n",
    "            cfun,\n",
    "            x0,\n",
    "            sigma0,\n",
    "            {'bounds': [0.0, 1.0], 'tolstagnation': 0, 'tolx': 1e-5, 'timeout': timeout / num_tries * 60},\n",
    "            callback=cfun.update\n",
    "        )\n",
    "\n",
    "        print(es.result)\n",
    "        if cfun.best_feas.info is None:\n",
    "            cfun.find_feasible(es)\n",
    "        print(cfun.best_feas.info)\n",
    "\n",
    "        x = cfun.best_feas.info['x']\n",
    "        dev = deviation_dist(scale(x, dev_bounds))\n",
    "        if dev > max_dev:\n",
    "            max_dev = dev\n",
    "            max_x = x\n",
    "    \n",
    "    return scale(max_x, dev_bounds)"
   ]
  },
  {
   "cell_type": "markdown",
   "id": "d916cf8e",
   "metadata": {},
   "source": [
    "## Config your environment and agent"
   ]
  },
  {
   "cell_type": "markdown",
   "id": "e06bb67b",
   "metadata": {},
   "source": [
    "### TODO: Define the environment"
   ]
  },
  {
   "cell_type": "code",
   "execution_count": null,
   "id": "0620aaad",
   "metadata": {},
   "outputs": [],
   "source": [
    "# define the range of the deviation parameters\n",
    "# dev_bounds = \n",
    "\n",
    "# define the range of the variables to falsify\n",
    "# falsify_range = \n",
    "\n",
    "# define the deviation parameter value for the original environment (no deviation)\n",
    "# x_original = "
   ]
  },
  {
   "cell_type": "code",
   "execution_count": null,
   "id": "51f6b71c",
   "metadata": {},
   "outputs": [],
   "source": [
    "def build_env(x):\n",
    "    \"\"\"\n",
    "    Create the environment given the deviation parameter in its original (non-normalized) domain.\n",
    "    \"\"\"\n",
    "    pass"
   ]
  },
  {
   "cell_type": "markdown",
   "id": "e3fa733d",
   "metadata": {},
   "source": [
    "### TODO: Define Agent"
   ]
  },
  {
   "cell_type": "code",
   "execution_count": null,
   "id": "65037681",
   "metadata": {},
   "outputs": [],
   "source": [
    "# define the action generation function of the given agent\n",
    "# next_action = \n",
    "\n",
    "# some agents (like PID) needs to be reset for each run\n",
    "# model_reset = None"
   ]
  },
  {
   "cell_type": "markdown",
   "id": "78a73fce",
   "metadata": {},
   "source": [
    "### TODO: Define STL property"
   ]
  },
  {
   "cell_type": "code",
   "execution_count": null,
   "id": "268cf428",
   "metadata": {},
   "outputs": [],
   "source": [
    "def build_stl_prop():\n",
    "    pass\n",
    "\n",
    "def build_stl_trace(records, time_index):\n",
    "    pass\n",
    "\n",
    "def is_stl_violated(rob):\n",
    "    pass\n",
    "\n",
    "phi = build_stl_prop()"
   ]
  },
  {
   "cell_type": "markdown",
   "id": "febd16c0",
   "metadata": {},
   "source": [
    "### TODO: Config global options and functions"
   ]
  },
  {
   "cell_type": "code",
   "execution_count": null,
   "id": "caf80baf",
   "metadata": {},
   "outputs": [],
   "source": [
    "# seed = \n",
    "\n",
    "# define the max epsiode steps when evaluating a given environment\n",
    "# max_episode_steps = 200\n",
    "\n",
    "# define the max episodes to run when falsifying a given environment (under some deviation)\n",
    "# max_episodes = 100\n",
    "\n",
    "# define the target STL robustness value when falsification, i.e., CMA would stop search\n",
    "# when an instance of such value is found.\n",
    "# stl_falsify_target = -np.inf\n",
    "\n",
    "# timeout in minutes\n",
    "# timeout = 30\n",
    "\n",
    "# Could change this value for different trials within the total timeout\n",
    "# num_tries = 3"
   ]
  },
  {
   "cell_type": "markdown",
   "id": "3d1b7f52",
   "metadata": {},
   "source": [
    "## Robustness analysis starts here!"
   ]
  },
  {
   "cell_type": "markdown",
   "id": "d6c84179",
   "metadata": {},
   "source": [
    "### The agent should be safe under the original environment by falsification"
   ]
  },
  {
   "cell_type": "code",
   "execution_count": null,
   "id": "c1393512",
   "metadata": {},
   "outputs": [],
   "source": [
    "evaluate_dev(x_original, \"gifs/default_env.gif\")"
   ]
  },
  {
   "cell_type": "markdown",
   "id": "36bb6ba6",
   "metadata": {},
   "source": [
    "### CMA for minimizing the STL robustness value given the bounded deviation"
   ]
  },
  {
   "cell_type": "code",
   "execution_count": null,
   "id": "da7c0f70",
   "metadata": {},
   "outputs": [],
   "source": [
    "x = dev_violates_stl()"
   ]
  },
  {
   "cell_type": "code",
   "execution_count": null,
   "id": "ce58d5a3",
   "metadata": {},
   "outputs": [],
   "source": [
    "evaluate_dev(x, \"gifs/counterexample.gif\")"
   ]
  },
  {
   "cell_type": "markdown",
   "id": "d2c406c3",
   "metadata": {},
   "source": [
    "### CMA-ES for minimizing the deviation s.t. the STL is violated."
   ]
  },
  {
   "cell_type": "code",
   "execution_count": null,
   "id": "ffdbe3e9",
   "metadata": {},
   "outputs": [],
   "source": [
    "x = min_dev_violates_stl()"
   ]
  },
  {
   "cell_type": "code",
   "execution_count": null,
   "id": "118e9277",
   "metadata": {},
   "outputs": [],
   "source": [
    "evaluate_dev(x, \"gifs/min_dev_counterexample.gif\")"
   ]
  },
  {
   "cell_type": "markdown",
   "id": "49591c94",
   "metadata": {},
   "source": [
    "### [Optional] CMA for finding the maximum deviation s.t. the agent is safe"
   ]
  },
  {
   "cell_type": "code",
   "execution_count": null,
   "id": "ceb97dc8",
   "metadata": {},
   "outputs": [],
   "source": [
    "x = max_safe_dev()"
   ]
  },
  {
   "cell_type": "code",
   "execution_count": null,
   "id": "034f3ab3",
   "metadata": {},
   "outputs": [],
   "source": [
    "evaluate_dev(x, \"gifs/max_safe_deviation.gif\")"
   ]
  },
  {
   "cell_type": "code",
   "execution_count": null,
   "id": "5b7554d7",
   "metadata": {},
   "outputs": [],
   "source": []
  }
 ],
 "metadata": {
  "kernelspec": {
   "display_name": "Python 3 (ipykernel)",
   "language": "python",
   "name": "python3"
  },
  "language_info": {
   "codemirror_mode": {
    "name": "ipython",
    "version": 3
   },
   "file_extension": ".py",
   "mimetype": "text/x-python",
   "name": "python",
   "nbconvert_exporter": "python",
   "pygments_lexer": "ipython3",
   "version": "3.8.10"
  }
 },
 "nbformat": 4,
 "nbformat_minor": 5
}
