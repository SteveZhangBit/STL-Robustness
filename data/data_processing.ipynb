{
 "cells": [
  {
   "cell_type": "code",
   "execution_count": 179,
   "id": "5ba2600f-a9cd-4884-a50a-bc2c91404b46",
   "metadata": {},
   "outputs": [],
   "source": [
    "import pandas as pd\n",
    "import numpy as np\n",
    "import pickle\n",
    "import matplotlib.pyplot as plt\n",
    "\n",
    "plt.rc('axes', labelsize=20)\n",
    "plt.rc('xtick', labelsize=16)\n",
    "plt.rc('ytick', labelsize=16)"
   ]
  },
  {
   "cell_type": "code",
   "execution_count": 180,
   "id": "71ac5aca-43ac-4f36-bc36-e5e0a99af64d",
   "metadata": {},
   "outputs": [],
   "source": [
    "def compute_min_mean_dist(name, delta_0, bounds):\n",
    "    data = pd.read_csv(name, header=None)\n",
    "    normalized_delta_0 = (delta_0 - bounds[:, 0]) / (bounds[:, 1] - bounds[:, 0])\n",
    "    normalized_deltas = (data.loc[:, [0, 1]] - bounds[:, 0]) / (bounds[:, 1] - bounds[:, 0])\n",
    "    dist = np.sqrt(np.sum((normalized_deltas - normalized_delta_0)**2, axis=1))\n",
    "    print(len(dist), dist.min(), dist.mean(), dist.median())\n",
    "    return dist"
   ]
  },
  {
   "cell_type": "code",
   "execution_count": 181,
   "id": "c2335f95-41dc-43c0-aa34-b50b32824ca5",
   "metadata": {},
   "outputs": [],
   "source": [
    "def compute_min_mean_dist2(pickle_names, delta_0, bounds):\n",
    "    def convert_pickle(n):\n",
    "        p = pickle.load(open(n, 'rb'))\n",
    "        delta = np.asarray(p[0])\n",
    "        return pd.DataFrame([delta[:, 0], delta[:, 1], p[1]]).T\n",
    "        \n",
    "    data = pd.concat([convert_pickle(n)[:100] for n in pickle_names])\n",
    "    violated = data[data[2] < 0]\n",
    "    normalized_delta_0 = (delta_0 - bounds[:, 0]) / (bounds[:, 1] - bounds[:, 0])\n",
    "    normalized_deltas = (violated.loc[:, [0, 1]] - bounds[:, 0]) / (bounds[:, 1] - bounds[:, 0])\n",
    "    dist = np.sqrt(np.sum((normalized_deltas - normalized_delta_0)**2, axis=1))\n",
    "    print(len(violated), dist.min(), dist.mean(), dist.median())\n",
    "    return dist"
   ]
  },
  {
   "cell_type": "markdown",
   "id": "f53091f2-24cb-4fc0-bba3-3db98aa26b3e",
   "metadata": {},
   "source": [
    "## Cartpole"
   ]
  },
  {
   "cell_type": "code",
   "execution_count": 182,
   "id": "ff4fa435-c770-4448-82c7-d65731ed54de",
   "metadata": {},
   "outputs": [
    {
     "name": "stdout",
     "output_type": "stream",
     "text": [
      "90 0.2990935542438704 0.3991399320093203 0.4030298171599479\n",
      "66 0.26176158618051915 0.48081057764355023 0.47773491116823924\n",
      "69 0.28465995940010597 0.44903034711832135 0.443594776758862\n",
      "79 0.2560109432829253 0.4173483341211547 0.3902132208447999\n"
     ]
    }
   ],
   "source": [
    "cartpole_ol = compute_min_mean_dist('cartpole-dqn/ol/delta_cartpole.csv', [1.0, 10.0], np.array([[0.1, 2.0], [1.0, 20.0]]))\n",
    "cartpole_random = compute_min_mean_dist2(\n",
    "    ['cartpole-dqn/random/records-min-violations-0.pickle',\n",
    "     'cartpole-dqn/random/records-min-violations-1.pickle',\n",
    "     'cartpole-dqn/random/records-min-violations-2.pickle'],\n",
    "    [1.0, 10.0],\n",
    "    np.array([[0.1, 2.0], [1.0, 20.0]])\n",
    ")\n",
    "cartpole_cma = compute_min_mean_dist2(\n",
    "    ['cartpole-dqn/cma/records-min-violations-0.pickle',\n",
    "     'cartpole-dqn/cma/records-min-violations-1.pickle',\n",
    "     'cartpole-dqn/cma/records-min-violations-2.pickle'],\n",
    "    [1.0, 10.0],\n",
    "    np.array([[0.1, 2.0], [1.0, 20.0]])\n",
    ")\n",
    "cartpole_cma_heuristic = compute_min_mean_dist2(\n",
    "    ['cartpole-dqn/cma_heuristic/records-min-violations-0.pickle',\n",
    "     'cartpole-dqn/cma_heuristic/records-min-violations-1.pickle',\n",
    "     'cartpole-dqn/cma_heuristic/records-min-violations-2.pickle'],\n",
    "    [1.0, 10.0],\n",
    "    np.array([[0.1, 2.0], [1.0, 20.0]])\n",
    ")\n",
    "# plt.boxplot(\n",
    "#     [cartpole_ol, cartpole_random, cartpole_cma, cartpole_cma_heuristic],\n",
    "#     labels=['One-layer', 'Random', 'CMA', 'CMA+Heurisitc'],\n",
    "#     # widths=0.4,\n",
    "#     # positions=[0.25, 0.5, 0.75, 1.0]\n",
    "# )\n",
    "# plt.savefig('cartpole-dqn/boxplot.png', bbox_inches='tight')\n",
    "# plt.show()"
   ]
  },
  {
   "cell_type": "markdown",
   "id": "27f3f3c0-82a9-45f1-bc5f-03400690ad20",
   "metadata": {},
   "source": [
    "## LunarLander"
   ]
  },
  {
   "cell_type": "code",
   "execution_count": 183,
   "id": "e141c4ec-979c-4dc9-a299-ad67c026d076",
   "metadata": {},
   "outputs": [
    {
     "name": "stdout",
     "output_type": "stream",
     "text": [
      "99 0.045821646598533015 0.4128898452080594 0.4178146705379327\n",
      "74 0.02622317713990854 0.22155707793068533 0.19868825491093955\n",
      "84 0.02044178528667822 0.293250499059497 0.2596423422194488\n"
     ]
    }
   ],
   "source": [
    "delta_0 = [5.0, 0.5]\n",
    "bounds = np.array([[0.0, 10.0], [0.0, 1.0]])\n",
    "name = 'lunar-lander-ppo'\n",
    "ol = []\n",
    "random = compute_min_mean_dist2(\n",
    "    [name + '/random/records-min-violations-0.pickle',\n",
    "     name + '/random/records-min-violations-1.pickle',\n",
    "     name + '/random/records-min-violations-2.pickle'],\n",
    "    delta_0,\n",
    "    bounds\n",
    ")\n",
    "cma = compute_min_mean_dist2(\n",
    "    [name + '/cma/records-min-violations-0.pickle',\n",
    "     name + '/cma/records-min-violations-1.pickle',\n",
    "     name + '/cma/records-min-violations-2.pickle'],\n",
    "    delta_0,\n",
    "    bounds\n",
    ")\n",
    "cma_heuristic = compute_min_mean_dist2(\n",
    "    [name + '/cma_heuristic/records-min-violations-0.pickle',\n",
    "     name + '/cma_heuristic/records-min-violations-1.pickle',\n",
    "     name + '/cma_heuristic/records-min-violations-2.pickle'],\n",
    "    delta_0,\n",
    "    bounds\n",
    ")\n",
    "# plt.boxplot(\n",
    "#     [ol, random, cma, cma_heuristic],\n",
    "#     labels=['One-layer', 'Random', 'CMA', 'CMA+Heurisitc'],\n",
    "#     # widths=0.4,\n",
    "#     # positions=[0.25, 0.5, 0.75, 1.0]\n",
    "# )\n",
    "# plt.savefig(name + '/boxplot.png', bbox_inches='tight')\n",
    "# plt.show()"
   ]
  },
  {
   "cell_type": "markdown",
   "id": "b37a75f6-d5f8-405c-a14c-2ecee16331b4",
   "metadata": {},
   "source": [
    "## Car-Circle"
   ]
  },
  {
   "cell_type": "code",
   "execution_count": 184,
   "id": "3f840a68-b337-4bc0-bb4c-548122f40827",
   "metadata": {},
   "outputs": [
    {
     "name": "stdout",
     "output_type": "stream",
     "text": [
      "11 0.14311334671564196 0.2554495547779664 0.2743167785444365\n",
      "98 0.1347426628842245 0.4223107593363464 0.4340411442869447\n",
      "22 0.10159751419402831 0.21900060065611643 0.18981982952827803\n",
      "57 0.06791734043671538 0.45418440212728123 0.4812097611609746\n"
     ]
    }
   ],
   "source": [
    "delta_0 = [20.0, 0.5]\n",
    "bounds = np.array([[5.0, 35.0], [0.2, 0.8]])\n",
    "name = 'car-circle-ppo'\n",
    "ol = compute_min_mean_dist('car-circle-ppo/ol/delta_car_circle.csv', delta_0, bounds)\n",
    "random = compute_min_mean_dist2(\n",
    "    [name + '/random/records-min-violations-0.pickle',\n",
    "     name + '/random/records-min-violations-1.pickle',\n",
    "     name + '/random/records-min-violations-2.pickle'],\n",
    "    delta_0,\n",
    "    bounds\n",
    ")\n",
    "cma = compute_min_mean_dist2(\n",
    "    [name + '/cma/records-min-violations-0.pickle',\n",
    "     name + '/cma/records-min-violations-1.pickle',\n",
    "     name + '/cma/records-min-violations-2.pickle'],\n",
    "    delta_0,\n",
    "    bounds\n",
    ")\n",
    "cma_heuristic = compute_min_mean_dist2(\n",
    "    [name + '/cma_heuristic/records-min-violations-0.pickle',\n",
    "     name + '/cma_heuristic/records-min-violations-1.pickle',\n",
    "     name + '/cma_heuristic/records-min-violations-2.pickle'],\n",
    "    delta_0,\n",
    "    bounds\n",
    ")\n",
    "# plt.boxplot(\n",
    "#     [ol, random, cma, cma_heuristic],\n",
    "#     labels=['One-layer', 'Random', 'CMA', 'CMA+Heurisitc'],\n",
    "#     # widths=0.4,\n",
    "#     # positions=[0.25, 0.5, 0.75, 1.0]\n",
    "# )\n",
    "# plt.savefig(name + '/boxplot.png', bbox_inches='tight')\n",
    "# plt.show()"
   ]
  },
  {
   "cell_type": "markdown",
   "id": "5cd0c8cd-c458-45b4-ad83-6f82cb8aac3c",
   "metadata": {},
   "source": [
    "## Car-Run"
   ]
  },
  {
   "cell_type": "code",
   "execution_count": 185,
   "id": "5e154139-3b2e-4af5-805e-115b100559a9",
   "metadata": {},
   "outputs": [
    {
     "name": "stdout",
     "output_type": "stream",
     "text": [
      "25 0.1906059002875823 0.24933566470859275 0.2541691482444356\n",
      "81 0.16889638242351782 0.4473921261248982 0.45843875562600184\n",
      "68 0.1611851509047737 0.44865865612686595 0.4793439652563116\n",
      "109 0.15630874809326742 0.3991913673739551 0.4047403523739664\n"
     ]
    }
   ],
   "source": [
    "delta_0 = [20.0, 0.5]\n",
    "bounds = np.array([[5.0, 35.0], [0.2, 0.8]])\n",
    "name = 'car-run-ppo'\n",
    "ol = compute_min_mean_dist('car-run-ppo/ol/delta_car_run.csv', delta_0, bounds)\n",
    "random = compute_min_mean_dist2(\n",
    "    [name + '/random/records-min-violations-0.pickle',\n",
    "     name + '/random/records-min-violations-1.pickle',\n",
    "     name + '/random/records-min-violations-2.pickle'],\n",
    "    delta_0,\n",
    "    bounds\n",
    ")\n",
    "cma = compute_min_mean_dist2(\n",
    "    [name + '/cma/records-min-violations-0.pickle',\n",
    "     name + '/cma/records-min-violations-1.pickle',\n",
    "     name + '/cma/records-min-violations-2.pickle'],\n",
    "    delta_0,\n",
    "    bounds\n",
    ")\n",
    "cma_heuristic = compute_min_mean_dist2(\n",
    "    [name + '/cma_heuristic/records-min-violations-0.pickle',\n",
    "     name + '/cma_heuristic/records-min-violations-1.pickle',\n",
    "     name + '/cma_heuristic/records-min-violations-2.pickle'],\n",
    "    delta_0,\n",
    "    bounds\n",
    ")\n",
    "# plt.boxplot(\n",
    "#     [ol, random, cma, cma_heuristic],\n",
    "#     labels=['One-layer', 'Random', 'CMA', 'CMA+Heurisitc'],\n",
    "#     # widths=0.4,\n",
    "#     # positions=[0.25, 0.5, 0.75, 1.0]\n",
    "# )\n",
    "# plt.savefig(name + '/boxplot.png', bbox_inches='tight')\n",
    "# plt.show()"
   ]
  },
  {
   "cell_type": "markdown",
   "id": "5e0710af-d65f-495b-83f8-9228cfc7f90f",
   "metadata": {},
   "source": [
    "## ACC"
   ]
  },
  {
   "cell_type": "code",
   "execution_count": 186,
   "id": "b2c41bfd-dc0f-47ab-9f5c-d15470f70956",
   "metadata": {},
   "outputs": [
    {
     "name": "stdout",
     "output_type": "stream",
     "text": [
      "55 0.1495337173231051 0.4434160016616673 0.4670623822286018\n",
      "43 0.11039160997368679 0.32272005836730644 0.32278388057662405\n",
      "110 0.1377400813580374 0.41527010778572065 0.4087959585338837\n"
     ]
    }
   ],
   "source": [
    "delta_0 = [0.5, -0.5]\n",
    "bounds = np.array([[0.01, 1.0], [-1.0, -0.01]])\n",
    "name = 'ACC/RL'\n",
    "ol = []\n",
    "random = compute_min_mean_dist2(\n",
    "    [name + '/random/records-min-violations-0.pickle',\n",
    "     name + '/random/records-min-violations-1.pickle',\n",
    "     name + '/random/records-min-violations-2.pickle'],\n",
    "    delta_0,\n",
    "    bounds\n",
    ")\n",
    "cma = compute_min_mean_dist2(\n",
    "    [name + '/cma/records-min-violations-0.pickle',\n",
    "     name + '/cma/records-min-violations-1.pickle',\n",
    "     name + '/cma/records-min-violations-2.pickle'],\n",
    "    delta_0,\n",
    "    bounds\n",
    ")\n",
    "cma_heuristic = compute_min_mean_dist2(\n",
    "    [name + '/cma_heuristic/records-min-violations-0.pickle',\n",
    "     name + '/cma_heuristic/records-min-violations-1.pickle',\n",
    "     name + '/cma_heuristic/records-min-violations-2.pickle'],\n",
    "    delta_0,\n",
    "    bounds\n",
    ")\n",
    "# plt.boxplot(\n",
    "#     [ol, random, cma, cma_heuristic],\n",
    "#     labels=['One-layer', 'Random', 'CMA', 'CMA+Heurisitc'],\n",
    "#     # widths=0.4,\n",
    "#     # positions=[0.25, 0.5, 0.75, 1.0]\n",
    "# )\n",
    "# plt.savefig(name + '/boxplot.png', bbox_inches='tight')\n",
    "# plt.show()"
   ]
  },
  {
   "cell_type": "markdown",
   "id": "a0831606-fea0-49a2-be44-f82b4380a5d0",
   "metadata": {},
   "source": [
    "## WTK"
   ]
  },
  {
   "cell_type": "code",
   "execution_count": 187,
   "id": "3b8fa503-eed8-4182-bd23-ad710308a380",
   "metadata": {},
   "outputs": [
    {
     "name": "stdout",
     "output_type": "stream",
     "text": [
      "300 0.2993009251379633 0.4427954415342299 0.4542064785305805\n",
      "90 0.3359903480031336 0.5027490283243604 0.49924857877918627\n",
      "54 0.2963274321495811 0.45383806356584305 0.45308346340452776\n",
      "45 0.318599353471513 0.533037370600086 0.5154666141819348\n"
     ]
    }
   ],
   "source": [
    "delta_0 = [0.25, 0.1]\n",
    "bounds = np.array([[0.01, 0.5], [0.01, 0.2]])\n",
    "name = 'WTK/RL'\n",
    "ol = compute_min_mean_dist2(\n",
    "    [name + '/ol/records-min-violations-0.pickle',\n",
    "     name + '/ol/records-min-violations-1.pickle',\n",
    "     name + '/ol/records-min-violations-2.pickle'],\n",
    "    delta_0,\n",
    "    bounds\n",
    ")\n",
    "random = compute_min_mean_dist2(\n",
    "    [name + '/random/records-min-violations-0.pickle',\n",
    "     name + '/random/records-min-violations-1.pickle',\n",
    "     name + '/random/records-min-violations-2.pickle'],\n",
    "    delta_0,\n",
    "    bounds\n",
    ")\n",
    "cma = compute_min_mean_dist2(\n",
    "    [name + '/cma/records-min-violations-0.pickle',\n",
    "     name + '/cma/records-min-violations-1.pickle',\n",
    "     name + '/cma/records-min-violations-2.pickle'],\n",
    "    delta_0,\n",
    "    bounds\n",
    ")\n",
    "cma_heuristic = compute_min_mean_dist2(\n",
    "    [name + '/cma_heuristic/records-min-violations-0.pickle',\n",
    "     name + '/cma_heuristic/records-min-violations-1.pickle',\n",
    "     name + '/cma_heuristic/records-min-violations-2.pickle'],\n",
    "    delta_0,\n",
    "    bounds\n",
    ")\n",
    "# plt.boxplot(\n",
    "#     [ol, random, cma, cma_heuristic],\n",
    "#     labels=['One-layer', 'Random', 'CMA', 'CMA+Heurisitc'],\n",
    "#     # widths=0.4,\n",
    "#     # positions=[0.25, 0.5, 0.75, 1.0]\n",
    "# )\n",
    "# plt.savefig(name + '/boxplot.png', bbox_inches='tight')\n",
    "# plt.show()"
   ]
  },
  {
   "cell_type": "code",
   "execution_count": null,
   "id": "f9ace993-b96e-46fc-a912-bf4136fec7e7",
   "metadata": {},
   "outputs": [],
   "source": []
  },
  {
   "cell_type": "code",
   "execution_count": null,
   "id": "ed7c9860-bbf1-42d5-abc2-e580550a87d9",
   "metadata": {},
   "outputs": [],
   "source": []
  }
 ],
 "metadata": {
  "kernelspec": {
   "display_name": "Python 3 (ipykernel)",
   "language": "python",
   "name": "python3"
  },
  "language_info": {
   "codemirror_mode": {
    "name": "ipython",
    "version": 3
   },
   "file_extension": ".py",
   "mimetype": "text/x-python",
   "name": "python",
   "nbconvert_exporter": "python",
   "pygments_lexer": "ipython3",
   "version": "3.11.5"
  }
 },
 "nbformat": 4,
 "nbformat_minor": 5
}
