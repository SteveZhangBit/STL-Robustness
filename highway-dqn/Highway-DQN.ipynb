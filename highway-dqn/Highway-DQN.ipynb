{
 "cells": [
  {
   "cell_type": "code",
   "execution_count": 1,
   "id": "8ee11fbf",
   "metadata": {},
   "outputs": [],
   "source": [
    "%run ../robustness_analysis.ipynb"
   ]
  },
  {
   "cell_type": "code",
   "execution_count": 9,
   "id": "65503a38",
   "metadata": {},
   "outputs": [
    {
     "data": {
      "text/plain": [
       "{'observation': {'type': 'Kinematics'},\n",
       " 'action': {'type': 'DiscreteMetaAction'},\n",
       " 'simulation_frequency': 15,\n",
       " 'policy_frequency': 1,\n",
       " 'other_vehicles_type': 'highway_env.vehicle.behavior.IDMVehicle',\n",
       " 'screen_width': 600,\n",
       " 'screen_height': 150,\n",
       " 'centering_position': [0.3, 0.5],\n",
       " 'scaling': 5.5,\n",
       " 'show_trajectories': False,\n",
       " 'render_agent': True,\n",
       " 'offscreen_rendering': False,\n",
       " 'manual_control': False,\n",
       " 'real_time_rendering': False,\n",
       " 'lanes_count': 4,\n",
       " 'vehicles_count': 50,\n",
       " 'controlled_vehicles': 1,\n",
       " 'initial_lane_id': None,\n",
       " 'duration': 40,\n",
       " 'ego_spacing': 2,\n",
       " 'vehicles_density': 1,\n",
       " 'collision_reward': -1,\n",
       " 'right_lane_reward': 0.1,\n",
       " 'high_speed_reward': 0.4,\n",
       " 'lane_change_reward': 0,\n",
       " 'reward_speed_range': [20, 30],\n",
       " 'offroad_terminal': False}"
      ]
     },
     "execution_count": 9,
     "metadata": {},
     "output_type": "execute_result"
    }
   ],
   "source": [
    "import gym\n",
    "import highway_env\n",
    "\n",
    "env = gym.make('highway-v0')\n",
    "env.config"
   ]
  },
  {
   "cell_type": "code",
   "execution_count": 10,
   "id": "57270c9c",
   "metadata": {},
   "outputs": [
    {
     "data": {
      "text/plain": [
       "array([[ 1.        ,  0.8812211 ,  0.5       ,  0.3125    ,  0.        ],\n",
       "       [ 1.        ,  0.10211963,  0.25      , -0.029952  ,  0.        ],\n",
       "       [ 1.        ,  0.21933612,  0.        , -0.01743212,  0.        ],\n",
       "       [ 1.        ,  0.32939726,  0.25      , -0.0437343 ,  0.        ],\n",
       "       [ 1.        ,  0.4360964 ,  0.25      , -0.03334507,  0.        ]],\n",
       "      dtype=float32)"
      ]
     },
     "execution_count": 10,
     "metadata": {},
     "output_type": "execute_result"
    }
   ],
   "source": [
    "# env.configure({\n",
    "#     'lanes_count': 1,\n",
    "#     'vehicles_count': 1,\n",
    "# })\n",
    "# env.reset()\n",
    "# print(env.action_space)\n",
    "\n",
    "env.reset()"
   ]
  },
  {
   "cell_type": "code",
   "execution_count": 11,
   "id": "7e96753c",
   "metadata": {},
   "outputs": [],
   "source": [
    "for _ in range(100):\n",
    "    action = env.action_space.sample()\n",
    "    obs, reward, done, info = env.step(action)\n",
    "    env.render()\n",
    "    if done:\n",
    "        break\n",
    "\n",
    "env.close()"
   ]
  },
  {
   "cell_type": "code",
   "execution_count": 4,
   "id": "d07422be",
   "metadata": {},
   "outputs": [],
   "source": [
    "env.close()"
   ]
  },
  {
   "cell_type": "code",
   "execution_count": null,
   "id": "14eec671",
   "metadata": {},
   "outputs": [],
   "source": []
  }
 ],
 "metadata": {
  "kernelspec": {
   "display_name": "Python 3 (ipykernel)",
   "language": "python",
   "name": "python3"
  },
  "language_info": {
   "codemirror_mode": {
    "name": "ipython",
    "version": 3
   },
   "file_extension": ".py",
   "mimetype": "text/x-python",
   "name": "python",
   "nbconvert_exporter": "python",
   "pygments_lexer": "ipython3",
   "version": "3.7.15"
  }
 },
 "nbformat": 4,
 "nbformat_minor": 5
}
