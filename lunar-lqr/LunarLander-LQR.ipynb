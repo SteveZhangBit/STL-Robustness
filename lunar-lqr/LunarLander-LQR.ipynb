{
 "cells": [
  {
   "cell_type": "code",
   "execution_count": 26,
   "id": "e9af771e",
   "metadata": {},
   "outputs": [],
   "source": [
    "%run ../robustness_analysis.ipynb"
   ]
  },
  {
   "cell_type": "code",
   "execution_count": 2,
   "id": "8082bb77",
   "metadata": {},
   "outputs": [],
   "source": [
    "from lunarlander import *"
   ]
  },
  {
   "cell_type": "code",
   "execution_count": 3,
   "id": "97ab9f3c",
   "metadata": {},
   "outputs": [],
   "source": [
    "# define variables and their bounds\n",
    "wind_power = [0.0, 20.0]\n",
    "turbulence_power = [0.0, 2.0]\n",
    "\n",
    "# define the range of the deviation parameters\n",
    "dev_bounds = np.asarray([wind_power, turbulence_power])\n",
    "\n",
    "# define the range of initial force apply to the lander\n",
    "x0_bounds = np.repeat([[-INITIAL_RANDOM, INITIAL_RANDOM]], 2, axis=0)\n",
    "\n",
    "# define the deviation parameter value for the original environment (no deviation)\n",
    "delta_0 = np.asarray([0.0, 0.0])"
   ]
  },
  {
   "cell_type": "code",
   "execution_count": 4,
   "id": "9d44c04b",
   "metadata": {},
   "outputs": [],
   "source": [
    "def env_builder(delta):\n",
    "    return LunarLander(enable_wind=True, continuous=True, wind_power=delta[0], turbulence_power=delta[1]), x0_bounds"
   ]
  },
  {
   "cell_type": "code",
   "execution_count": 5,
   "id": "2f135cc9",
   "metadata": {},
   "outputs": [],
   "source": [
    "from scipy import linalg\n",
    "\n",
    "def lqr(s):\n",
    "    # gravity = 9.8/FPS/FPS/SCALE\n",
    "    gravity = 9.8 / FPS / FPS # gravity changes depending on SCALE\n",
    "    m_main_inv = gravity / 0.56    # determined by test\n",
    "    m_side_inv = gravity * 0.365    # determined by test\n",
    "    a_sina_i_inv= 0.198 / 100 # determined by test # not depending on SCALE\n",
    "    cos_alpha = 0.72\n",
    "\n",
    "    # target point set\n",
    "    x_target = 0\n",
    "    y_target = 0   # the landing point is 0\n",
    "    Vx_target = 0\n",
    "    Vy_target = 0\n",
    "    theta_target = 0\n",
    "    omega_target = 0\n",
    "\n",
    "    \"\"\"\n",
    "    Design of the reference trajectory\n",
    "    \"\"\"\n",
    "    y_target = s[1] * (VIEWPORT_H / SCALE / 2) / 1.6 # 1.6 succeeds all the times\n",
    "\n",
    "    \"\"\"\n",
    "    Design of a state space representation\n",
    "    \"\"\"\n",
    "    X = np.array([\n",
    "        [s[0] * (VIEWPORT_W / SCALE / 2) - x_target],\n",
    "        [s[1] * (VIEWPORT_H / SCALE / 2) - y_target],\n",
    "        [s[2] / (VIEWPORT_W / SCALE / 2) - Vx_target],\n",
    "        [s[3] / (VIEWPORT_H / SCALE / 2) - Vy_target],\n",
    "        [s[4] - theta_target],\n",
    "        [s[5] / 20.0 - omega_target]\n",
    "    ])\n",
    "\n",
    "    A = np.array([\n",
    "        [0, 0, 1, 0, 0, 0],\n",
    "        [0, 0, 0, 1, 0, 0],\n",
    "        [0, 0, 0, 0, -1 * gravity, 0],\n",
    "        [0, 0, 0, 0, 0, 0],\n",
    "        [0, 0, 0, 0, 0, 1],\n",
    "        [0, 0, 0, 0, 0, 0]\n",
    "    ])\n",
    "\n",
    "    B = np.array([\n",
    "        [0, 0],\n",
    "        [0, 0],\n",
    "        [0, m_side_inv * cos_alpha * cos_alpha],\n",
    "        [1 * m_main_inv, 0],\n",
    "        [0, 0],\n",
    "        [0, -1 * a_sina_i_inv]\n",
    "    ])\n",
    "    # the second term of the 4th row of B was igonred for simplification assuming that Fside is smaller than Fmain and negligible while Fmain is used\n",
    "\n",
    "    sigma = np.array([\n",
    "        [0],\n",
    "        [0],\n",
    "        [0],\n",
    "        [-1 * gravity],\n",
    "        [0],\n",
    "        [0]\n",
    "    ])\n",
    "\n",
    "    # gravity compensation\n",
    "    BTB = np.dot(B.T, B)\n",
    "    u_sigma = -1 * np.linalg.inv(BTB).dot(B.T).dot(sigma)\n",
    "\n",
    "    \"\"\"\n",
    "    Design of LQR\n",
    "    Solve Riccati equation to find a optimal control input\n",
    "    \"\"\"\n",
    "    R = np.array([\n",
    "        [1, 0],\n",
    "        [0, 1]\n",
    "    ])\n",
    "\n",
    "    Q = np.array([\n",
    "        [1, 0, 0, 0, 0, 0],\n",
    "        [0, 1, 0, 0, 0, 0],\n",
    "        [0, 0, 1, 0, 0, 0],\n",
    "        [0, 0, 0, 1, 0, 0],\n",
    "        [0, 0, 0, 0, 100, 0],\n",
    "        [0, 0, 0, 0, 0, 100]\n",
    "    ])\n",
    "\n",
    "    # Solving Riccati equation\n",
    "    P = linalg.solve_continuous_are(A, B, Q, R)\n",
    "    # print(\"P {}\\n\".format(P))\n",
    "\n",
    "    # u = -KX\n",
    "    # K = R-1*Rt*P\n",
    "    K = np.linalg.inv(R).dot(B.T).dot(P)\n",
    "    # print(\"K {}\\n\".format(K))\n",
    "    thrust = -1 * np.dot(K, X) + u_sigma\n",
    "    # thrust = -1*np.dot(K, X)\n",
    "\n",
    "    \"\"\"\n",
    "    Free fall from the final short distance\n",
    "    \"\"\"\n",
    "    if s[1] < 0.3 / SCALE:\n",
    "        thrust[0] = 0\n",
    "        thrust[1] = 0\n",
    "\n",
    "    # conversion to compensate main thruster's tricky thrusting\n",
    "    thrust[0] = thrust[0] / 0.5 - 1.0\n",
    "\n",
    "    a = np.array([thrust[0], thrust[1]])\n",
    "    a = np.clip(a, -1, +1)  #  if the value is less than 0.5, it's ignored\n",
    "    return a.flatten()"
   ]
  },
  {
   "cell_type": "code",
   "execution_count": 6,
   "id": "7eff8336",
   "metadata": {},
   "outputs": [],
   "source": [
    "agent = {\n",
    "    # define the action generation function of the given agent\n",
    "    'next_action': lambda obs: lqr(obs),\n",
    "\n",
    "    # some agents (like PID) needs to be reset for each run\n",
    "    'model_reset': None\n",
    "}"
   ]
  },
  {
   "cell_type": "code",
   "execution_count": 7,
   "id": "d26ebd80",
   "metadata": {},
   "outputs": [],
   "source": [
    "obs_space = env_builder(delta_0)[0].observation_space\n",
    "angle_range = np.asarray([obs_space.low[4], obs_space.high[4]])\n",
    "x_range = np.asarray([obs_space.low[0], obs_space.high[0]])\n",
    "y_range = np.asarray([obs_space.low[1], obs_space.high[1]])\n",
    "\n",
    "\n",
    "def stl_prop():    \n",
    "    # G ( |angle| < 45 && |x| < 0.6|y| + 0.1 )\n",
    "    angle = stl.Predicate('angle')\n",
    "    delta_x = stl.Predicate('delta_x')\n",
    "    \n",
    "    angle_threshold = normalize(45 * 2 * np.pi / 360, angle_range)\n",
    "    \n",
    "    return stl.Always( (angle < angle_threshold) & (delta_x < 0.1) )\n",
    "    \n",
    "\n",
    "def signal_builder(records, time_index):    \n",
    "    return {\n",
    "        'angle': stl.Signal(\n",
    "            normalize(np.abs(records[:, 4]), angle_range),\n",
    "            time_index\n",
    "        ),\n",
    "        'delta_x': stl.Signal(\n",
    "            normalize(np.abs(records[:, 0]), x_range) - normalize(np.abs(0.6 * records[:, 1]), y_range),\n",
    "            time_index\n",
    "        )\n",
    "    }\n",
    "    \n",
    "\n",
    "def episode_eval(obs_record, reward_record):\n",
    "    return compute_stl_rob(stl_prop(), signal_builder, obs_record)"
   ]
  },
  {
   "cell_type": "code",
   "execution_count": 8,
   "id": "6eed0075",
   "metadata": {},
   "outputs": [],
   "source": [
    "# l-2 norm distance\n",
    "def dist(delta, delta_0):\n",
    "    delta = normalize(delta, dev_bounds)\n",
    "    delta_0 = normalize(delta_0, dev_bounds)\n",
    "    return np.sqrt(np.sum((delta - delta_0) ** 2))"
   ]
  },
  {
   "cell_type": "code",
   "execution_count": 9,
   "id": "cc3b7817",
   "metadata": {},
   "outputs": [],
   "source": [
    "if not os.path.exists('gifs'):\n",
    "    os.mkdir('gifs')"
   ]
  },
  {
   "cell_type": "code",
   "execution_count": 27,
   "id": "69290fb2",
   "metadata": {},
   "outputs": [
    {
     "data": {
      "text/plain": [
       "{'epsilon': 0.01,\n",
       " 'deviation_restarts': 2,\n",
       " 'deviation_sigma': 0.2,\n",
       " 'deviation_timeout': inf,\n",
       " 'deviation_evals': 100,\n",
       " 'falsification_sigma': 0.4,\n",
       " 'falsification_timeout': 1,\n",
       " 'falsification_restarts': 1,\n",
       " 'falsification_episodes': 40,\n",
       " 'episodes_of_each_x0': 1,\n",
       " 'steps_of_each_x0': 300}"
      ]
     },
     "execution_count": 27,
     "metadata": {},
     "output_type": "execute_result"
    }
   ],
   "source": [
    "analysis = RobustnessAnalysis(env_builder, agent, episode_eval, delta_0, dev_bounds, dist)\n",
    "analysis.options['steps_of_each_x0'] = 300\n",
    "analysis.options['deviation_restarts'] = 2\n",
    "analysis.options['deviation_sigma'] = 0.2\n",
    "analysis.options['deviation_evals'] = 100\n",
    "# analysis.options['deviation_timeout'] = 20\n",
    "analysis.options['falsification_sigma'] = 0.4\n",
    "analysis.options['falsification_timeout'] = 1\n",
    "analysis.options['falsification_restarts'] = 1\n",
    "analysis.options['falsification_episodes'] = 40\n",
    "analysis.options"
   ]
  },
  {
   "cell_type": "code",
   "execution_count": 11,
   "id": "0a5aa974-d062-46a7-ad8a-97062fa79ec8",
   "metadata": {},
   "outputs": [],
   "source": [
    "# start = datetime.now()\n",
    "# analysis.deviated_sys_eval([5.1, 0.2])\n",
    "# datetime.now() - start"
   ]
  },
  {
   "cell_type": "markdown",
   "id": "3c9dbff3-c30a-4f52-a631-d492c91ae394",
   "metadata": {},
   "source": [
    "## Compare the number of evaluations"
   ]
  },
  {
   "cell_type": "code",
   "execution_count": 12,
   "id": "2f29e8ea-54f8-40af-b3e6-9532663dc3fe",
   "metadata": {
    "tags": []
   },
   "outputs": [],
   "source": [
    "def run_data(analysis, name, n=10, evals=50, out_dir='data'):\n",
    "    dists_name = f\"{out_dir}/{name}-dists-{n}-{evals}.csv\"\n",
    "    times_name = f\"{out_dir}/{name}-times-{n}-{evals}.csv\"\n",
    "    if os.path.exists(dists_name) and os.path.exists(times_name):\n",
    "        dists = np.loadtxt(dists_name, delimiter=',')\n",
    "        times = np.loadtxt(times_name, delimiter=',')\n",
    "    else:\n",
    "        analysis.options['deviation_evals'] = evals\n",
    "        dists, times = [], []\n",
    "        for _ in range(n):\n",
    "            start = datetime.now()\n",
    "            result = analysis.min_unsafe_deviation()\n",
    "            dists.append(result.delta_dist)\n",
    "            times.append((datetime.now() - start).total_seconds())\n",
    "\n",
    "        dists, times = np.array(dists), np.array(times)\n",
    "        np.savetxt(dists_name, dists, delimiter=',')\n",
    "        np.savetxt(times_name, times, delimiter=',')\n",
    "    return dists, times"
   ]
  },
  {
   "cell_type": "code",
   "execution_count": 13,
   "id": "73042789-a12b-4482-97b9-382e8397a47e",
   "metadata": {},
   "outputs": [],
   "source": [
    "def test_evals(analysis, name, out_dir):\n",
    "    evals = np.arange(25, 126, 25)\n",
    "    data = []\n",
    "    for e in evals:\n",
    "        dists, _ = run_data(analysis, name, evals=e, out_dir=out_dir)\n",
    "        data.append(dists)\n",
    "    # plt.boxplot(data, labels=evals)\n",
    "    # plt.show()\n",
    "    return data"
   ]
  },
  {
   "cell_type": "markdown",
   "id": "6d3f76d8-f7ba-4d80-960e-224d6b3cf422",
   "metadata": {},
   "source": [
    "### Basic CMA"
   ]
  },
  {
   "cell_type": "code",
   "execution_count": 28,
   "id": "db2935da-837f-4f47-ba0b-edce8130f827",
   "metadata": {
    "tags": []
   },
   "outputs": [],
   "source": [
    "data1 = test_evals(analysis, 'BasicCMA', 'data')"
   ]
  },
  {
   "cell_type": "code",
   "execution_count": 29,
   "id": "a6479424-2d71-49eb-89c6-c6e8798cd55f",
   "metadata": {},
   "outputs": [
    {
     "data": {
      "image/png": "[encoded data removed]",
      "text/plain": [
       "<Figure size 640x480 with 1 Axes>"
      ]
     },
     "metadata": {},
     "output_type": "display_data"
    }
   ],
   "source": [
    "b = plt.boxplot(np.ndarray.flatten(np.asarray(data1)))\n",
    "boundary = [l.get_ydata()[1] for l in b['whiskers']][0]"
   ]
  },
  {
   "cell_type": "code",
   "execution_count": 30,
   "id": "d14928e5-13f5-4f3e-bbc3-d0f7b75727b9",
   "metadata": {},
   "outputs": [
    {
     "data": {
      "image/png": "[encoded data removed]",
      "text/plain": [
       "<Figure size 640x480 with 2 Axes>"
      ]
     },
     "metadata": {},
     "output_type": "display_data"
    }
   ],
   "source": [
    "plt.rc('axes', labelsize=12, titlesize=13)\n",
    "_ = analysis.heatmap(wind_power, turbulence_power, 25, 25, x_name=\"Wind\", y_name=\"Turbulence\", z_name=\"System Evaluation $\\Gamma$\",\n",
    "                     out_dir='data', boundary=boundary, vmax=0.1, vmin=-0.4)\n",
    "plt.title('Robustness $\\hat{\\Delta}: ||\\delta - \\delta_0||_2 < %.3f$' % boundary)\n",
    "plt.savefig('gifs/robustness-landscape-boundary-heatmap.png', bbox_inches='tight')"
   ]
  },
  {
   "cell_type": "markdown",
   "id": "46bae30e-24c1-4ff7-b970-c4725232e4fb",
   "metadata": {
    "tags": []
   },
   "source": [
    "### Random sample"
   ]
  },
  {
   "cell_type": "code",
   "execution_count": 31,
   "id": "d1d30386-f6f6-4b5c-8a77-8d0f0c41a4c7",
   "metadata": {},
   "outputs": [],
   "source": [
    "data2 = test_evals(RandomMinDev(analysis), 'Random', 'data')"
   ]
  },
  {
   "cell_type": "code",
   "execution_count": 32,
   "id": "865921ce",
   "metadata": {},
   "outputs": [],
   "source": [
    "def set_box_color(bp, color):\n",
    "    plt.setp(bp['boxes'], color=color)\n",
    "    plt.setp(bp['whiskers'], color=color)\n",
    "    plt.setp(bp['caps'], color=color)\n",
    "    plt.setp(bp['medians'], color=color)\n",
    "\n",
    "def boxplot(datas, colors, labels, legends):\n",
    "    num_group = len(datas)\n",
    "    num_each_group = len(datas[0])\n",
    "    total = num_group * num_each_group\n",
    "    for i in range(num_group):\n",
    "        bp = plt.boxplot(datas[i], positions=np.arange(i+1, total+1, num_group)+np.arange(num_each_group), showfliers=False)\n",
    "        set_box_color(bp, colors[i])\n",
    "    \n",
    "    plt.xticks(np.arange(1+(num_group-1)/2, total, num_group)+np.arange(num_each_group), labels=labels)\n",
    "\n",
    "    for i in range(num_group):\n",
    "        plt.plot([], c=colors[i], label=legends[i])\n",
    "    plt.legend()"
   ]
  },
  {
   "cell_type": "code",
   "execution_count": 33,
   "id": "7dadc164-a718-43e4-9d87-ce31a7ce6a76",
   "metadata": {},
   "outputs": [
    {
     "data": {
      "image/png": "[encoded data removed]",
      "text/plain": [
       "<Figure size 640x480 with 1 Axes>"
      ]
     },
     "metadata": {},
     "output_type": "display_data"
    }
   ],
   "source": [
    "plt.xlabel('Number of samples')\n",
    "plt.ylabel('Minimum distance')\n",
    "boxplot([data1, data2], ['red', 'blue'], np.arange(25, 126, 25)*(analysis.options['deviation_restarts']+1),\n",
    "        ['CMA', 'Random'])\n",
    "plt.savefig('gifs/sample-boxplot.png', bbox_inches='tight')"
   ]
  },
  {
   "cell_type": "code",
   "execution_count": null,
   "id": "ac2b8008-210b-44f2-a0c8-52cbc0fc993e",
   "metadata": {},
   "outputs": [],
   "source": []
  }
 ],
 "metadata": {
  "kernelspec": {
   "display_name": "Python 3 (ipykernel)",
   "language": "python",
   "name": "python3"
  },
  "language_info": {
   "codemirror_mode": {
    "name": "ipython",
    "version": 3
   },
   "file_extension": ".py",
   "mimetype": "text/x-python",
   "name": "python",
   "nbconvert_exporter": "python",
   "pygments_lexer": "ipython3",
   "version": "3.8.15"
  }
 },
 "nbformat": 4,
 "nbformat_minor": 5
}
