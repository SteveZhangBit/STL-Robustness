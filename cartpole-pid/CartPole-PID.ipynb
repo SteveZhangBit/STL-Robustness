{
 "cells": [
  {
   "cell_type": "code",
   "execution_count": 1,
   "id": "5b258fa2",
   "metadata": {},
   "outputs": [],
   "source": [
    "%run ../robustness_analysis.ipynb"
   ]
  },
  {
   "cell_type": "markdown",
   "id": "4e285701",
   "metadata": {},
   "source": [
    "## Define parametric environment"
   ]
  },
  {
   "cell_type": "code",
   "execution_count": 2,
   "id": "2226661b",
   "metadata": {},
   "outputs": [],
   "source": [
    "# Create a mutated environment\n",
    "from gym.envs.classic_control import CartPoleEnv\n",
    "from types import SimpleNamespace\n",
    "\n",
    "class MutatedCartPoleEnv(CartPoleEnv):\n",
    "    def __init__(self, masscart = 1.0, masspole = 0.1, length = 0.5, force_mag = 10.0):\n",
    "        super().__init__()\n",
    "        \n",
    "        self.spec = SimpleNamespace()\n",
    "        self.spec.id = f\"MutatedCartPole-{masscart:.3f}-{masspole:.3f}-{length:.3f}-{force_mag:.3f}\"\n",
    "        \n",
    "        self.gravity = 9.8\n",
    "        self.masscart = masscart\n",
    "        self.masspole = masspole\n",
    "        self.total_mass = self.masspole + self.masscart\n",
    "        self.length = length  # actually half the pole's length\n",
    "        self.polemass_length = self.masspole * self.length\n",
    "        self.force_mag = force_mag\n",
    "        self.tau = 0.02  # seconds between state updates\n",
    "    \n",
    "    def reset_to(self, state, seed=None):\n",
    "        self.seed(seed)\n",
    "        self.state = state\n",
    "        self.steps_beyond_done = None\n",
    "        return np.array(self.state, dtype=np.float32)"
   ]
  },
  {
   "cell_type": "markdown",
   "id": "a5b02029",
   "metadata": {},
   "source": [
    "## Define deviation domain"
   ]
  },
  {
   "cell_type": "code",
   "execution_count": 3,
   "id": "b1190e77",
   "metadata": {},
   "outputs": [],
   "source": [
    "masscart = [0.1, 2.0]\n",
    "force_mag = [1.0, 20.0]\n",
    "\n",
    "# define the range of the deviation parameters\n",
    "dev_bounds = np.asarray([masscart, force_mag])\n",
    "\n",
    "# define the range of the initial states\n",
    "x0_bounds = np.repeat([[-0.05, 0.05]], 4, axis=0)\n",
    "\n",
    "# define the deviation parameter value for the original environment (no deviation)\n",
    "delta_0 = np.asarray([\n",
    "    1.0, # default masscart (not normalized)\n",
    "    10.0 # default force_mag\n",
    "])"
   ]
  },
  {
   "cell_type": "markdown",
   "id": "a787fc9b",
   "metadata": {},
   "source": [
    "## Define system and controller"
   ]
  },
  {
   "cell_type": "code",
   "execution_count": 4,
   "id": "6a90b2b7",
   "metadata": {},
   "outputs": [],
   "source": [
    "def env_builder(delta):\n",
    "    return MutatedCartPoleEnv(masscart=delta[0], force_mag=delta[1]), x0_bounds"
   ]
  },
  {
   "cell_type": "code",
   "execution_count": 5,
   "id": "dab5d765",
   "metadata": {},
   "outputs": [],
   "source": [
    "# credits to: https://gist.github.com/HenryJia/23db12d61546054aa43f8dc587d9dc2c\n",
    "class PID:\n",
    "    def __init__(self):\n",
    "        self.desired_state = np.array([0, 0, 0, 0])\n",
    "        self.desired_mask = np.array([0, 0, 1, 0])\n",
    "        self.P, self.I, self.D = 0.1, 0.01, 0.5\n",
    "        \n",
    "        self.reset()\n",
    "    \n",
    "    def reset(self):\n",
    "        self.integral = 0\n",
    "        self.derivative = 0\n",
    "        self.prev_error = 0\n",
    "    \n",
    "    def sigmoid(self, x):\n",
    "        return 1.0 / (1.0 + np.exp(-x))\n",
    "    \n",
    "    def next_action(self, obs):\n",
    "        error = obs - self.desired_state\n",
    "\n",
    "        self.integral += error\n",
    "        self.derivative = error - self.prev_error\n",
    "        self.prev_error = error\n",
    "\n",
    "        pid = np.dot(self.P * error + self.I * self.integral + self.D * self.derivative, self.desired_mask)\n",
    "        action = self.sigmoid(pid)\n",
    "        return np.round(action).astype(np.int32)"
   ]
  },
  {
   "cell_type": "code",
   "execution_count": 6,
   "id": "a6f17e26",
   "metadata": {},
   "outputs": [],
   "source": [
    "model = PID()\n",
    "\n",
    "agent = {\n",
    "    # define the action generation function of the given agent\n",
    "    'next_action': lambda obs: model.next_action(obs),\n",
    "\n",
    "    # some agents (like PID) needs to be reset for each run\n",
    "    'model_reset': lambda : model.reset()\n",
    "}"
   ]
  },
  {
   "cell_type": "markdown",
   "id": "82c5944b",
   "metadata": {},
   "source": [
    "## Define STL property"
   ]
  },
  {
   "cell_type": "code",
   "execution_count": 7,
   "id": "2b3fa670",
   "metadata": {},
   "outputs": [],
   "source": [
    "obs_space = MutatedCartPoleEnv().observation_space\n",
    "pos_range = np.asarray([obs_space.low[0], obs_space.high[0]])\n",
    "angle_range = np.asarray([obs_space.low[2], obs_space.high[2]])\n",
    "\n",
    "def stl_prop():\n",
    "    pos = stl.Predicate('pos')\n",
    "    angle = stl.Predicate('angle')\n",
    "\n",
    "    pos_threshold = normalize(2.4, pos_range)\n",
    "    angle_threshold = normalize(12 * 2 * np.pi / 360, angle_range)\n",
    "\n",
    "    return stl.Always( (pos < pos_threshold) & (angle < angle_threshold) )\n",
    "\n",
    "\n",
    "def signal_builder(record, time_index):\n",
    "    return {\n",
    "        \"pos\": stl.Signal(\n",
    "            normalize(np.abs(record[:, 0]), pos_range),\n",
    "            time_index\n",
    "        ),\n",
    "        \"angle\": stl.Signal(\n",
    "            normalize(np.abs(record[:, 2]), angle_range),\n",
    "            time_index\n",
    "        )\n",
    "    }\n",
    "\n",
    "def episode_eval(obs_record, reward_record):\n",
    "    return compute_stl_rob(stl_prop(), signal_builder, obs_record)"
   ]
  },
  {
   "cell_type": "markdown",
   "id": "3afba204",
   "metadata": {},
   "source": [
    "## Define distance function"
   ]
  },
  {
   "cell_type": "code",
   "execution_count": 8,
   "id": "93017ffc",
   "metadata": {},
   "outputs": [],
   "source": [
    "# l-2 norm distance\n",
    "def dist(delta, delta_0):\n",
    "    delta = normalize(delta, dev_bounds)\n",
    "    delta_0 = normalize(delta_0, dev_bounds)\n",
    "    return np.sqrt(np.sum((delta - delta_0) ** 2))"
   ]
  },
  {
   "cell_type": "code",
   "execution_count": 9,
   "id": "203bde40",
   "metadata": {},
   "outputs": [],
   "source": [
    "if not os.path.exists('gifs'):\n",
    "    os.mkdir('gifs')"
   ]
  },
  {
   "cell_type": "markdown",
   "id": "d32b4699",
   "metadata": {},
   "source": [
    "## Create the baseline Robustness Analyzer"
   ]
  },
  {
   "cell_type": "code",
   "execution_count": 10,
   "id": "f7f6278c",
   "metadata": {},
   "outputs": [
    {
     "data": {
      "text/plain": [
       "{'epsilon': 0.01,\n",
       " 'deviation_restarts': 2,\n",
       " 'deviation_sigma': 0.2,\n",
       " 'deviation_timeout': inf,\n",
       " 'deviation_evals': 100,\n",
       " 'falsification_sigma': 0.4,\n",
       " 'falsification_timeout': 1,\n",
       " 'falsification_restarts': 0,\n",
       " 'falsification_episodes': 100,\n",
       " 'episodes_of_each_x0': 1,\n",
       " 'steps_of_each_x0': 200}"
      ]
     },
     "execution_count": 10,
     "metadata": {},
     "output_type": "execute_result"
    }
   ],
   "source": [
    "analysis = RobustnessAnalysis(env_builder, agent, episode_eval, delta_0, dev_bounds, dist)\n",
    "analysis.options['deviation_restarts'] = 2\n",
    "analysis.options['deviation_sigma'] = 0.2\n",
    "analysis.options['deviation_evals'] = 100\n",
    "analysis.options['falsification_sigma'] = 0.4\n",
    "analysis.options['falsification_timeout'] = 1\n",
    "analysis.options['falsification_restarts'] = 0\n",
    "analysis.options"
   ]
  },
  {
   "cell_type": "markdown",
   "id": "a21dc509",
   "metadata": {
    "tags": []
   },
   "source": [
    "## Min deviation and Plot the convergence"
   ]
  },
  {
   "cell_type": "code",
   "execution_count": 11,
   "id": "707e25c5-9c84-4c8f-b26f-6becfa8f1b9c",
   "metadata": {},
   "outputs": [],
   "source": [
    "def min_dev_and_convergence(analysis, out_dir='data'):\n",
    "    start = datetime.now()\n",
    "    result = analysis.min_unsafe_deviation()\n",
    "    print('===================== Summary ====================>')\n",
    "    print('Time to find min unsafe deviation:', datetime.now() - start)\n",
    "    print('Min x:', result.delta, 'Min distance:', result.delta_dist)\n",
    "    \n",
    "    for i in range(len(result.Dists)):\n",
    "        analysis.heatmap(masscart, force_mag, 25, 25, x_name=\"Masses\", y_name=\"Forces\", z_name=\"STL Satisfaction\",\n",
    "                         out_dir=out_dir, boundary=result.Dists[i])\n",
    "        plt.scatter(result.Xss[i][:, 0] * 24, result.Xss[i][:, 1] * 24, c=np.arange(len(result.Xss[i])), cmap='Greys')\n",
    "        if result.Means is not None and result.Sigmas is not None:\n",
    "            plt.title(f'Mean: {result.Means[i]}, Sigma: {result.Sigmas[i]}')\n",
    "        plt.show()"
   ]
  },
  {
   "cell_type": "markdown",
   "id": "13386705-55b2-43ca-aa30-970cea2d66f2",
   "metadata": {},
   "source": [
    "### BasicCMA"
   ]
  },
  {
   "cell_type": "code",
   "execution_count": null,
   "id": "c6e1253e-3a10-4c66-9c46-0392663faf74",
   "metadata": {},
   "outputs": [],
   "source": [
    "min_dev_and_convergence(analysis)"
   ]
  },
  {
   "cell_type": "markdown",
   "id": "3d76f0e5-ec17-4fd8-b04b-d1d54cfa863a",
   "metadata": {},
   "source": [
    "### Random"
   ]
  },
  {
   "cell_type": "code",
   "execution_count": null,
   "id": "1a23d41d-e1ee-4a0a-a850-b7b4331c79c5",
   "metadata": {},
   "outputs": [],
   "source": [
    "min_dev_and_convergence(RandomMinDev(analysis))"
   ]
  },
  {
   "cell_type": "markdown",
   "id": "8b1a7c4d-4483-4928-982f-55380e6de05e",
   "metadata": {},
   "source": [
    "### SmartCMA"
   ]
  },
  {
   "cell_type": "code",
   "execution_count": null,
   "id": "113b0f4b-725a-4b2e-9bbc-3067dbf47f57",
   "metadata": {},
   "outputs": [],
   "source": [
    "min_dev_and_convergence(SmartCMA(analysis))"
   ]
  },
  {
   "cell_type": "markdown",
   "id": "6889e04b-fee8-44d0-b7e8-df059d680e32",
   "metadata": {},
   "source": [
    "## PyGMO"
   ]
  },
  {
   "cell_type": "code",
   "execution_count": null,
   "id": "c51e974e-9d16-4e94-ab0c-2894996e3c5a",
   "metadata": {},
   "outputs": [],
   "source": [
    "min_dev_and_convergence(NSGA2(analysis, gen=15, popsize=20))"
   ]
  },
  {
   "cell_type": "code",
   "execution_count": null,
   "id": "ffb010c5-81f0-486e-9734-96a8a78a99c2",
   "metadata": {},
   "outputs": [],
   "source": [
    "min_dev_and_convergence(GACO(analysis, gen=15, popsize=20))"
   ]
  },
  {
   "cell_type": "markdown",
   "id": "a956097c-2cfe-4555-aae2-074e7576874c",
   "metadata": {},
   "source": [
    "## Compare the number of evaluations"
   ]
  },
  {
   "cell_type": "code",
   "execution_count": 11,
   "id": "6cb651e6",
   "metadata": {
    "tags": []
   },
   "outputs": [],
   "source": [
    "def run_data(analysis, name, n=10, evals=50, out_dir='data'):\n",
    "    dists_name = f\"{out_dir}/{name}-dists-{n}-{evals}.csv\"\n",
    "    times_name = f\"{out_dir}/{name}-times-{n}-{evals}.csv\"\n",
    "    if os.path.exists(dists_name) and os.path.exists(times_name):\n",
    "        dists = np.loadtxt(dists_name, delimiter=',')\n",
    "        times = np.loadtxt(times_name, delimiter=',')\n",
    "    else:\n",
    "        tmp = analysis.options['deviation_evals']\n",
    "        analysis.options['deviation_evals'] = evals\n",
    "        dists, times = [], []\n",
    "        for _ in range(n):\n",
    "            start = datetime.now()\n",
    "            result = analysis.min_unsafe_deviation()\n",
    "            dists.append(result.delta_dist)\n",
    "            times.append((datetime.now() - start).total_seconds())\n",
    "\n",
    "        dists, times = np.array(dists), np.array(times)\n",
    "        np.savetxt(dists_name, dists, delimiter=',')\n",
    "        np.savetxt(times_name, times, delimiter=',')\n",
    "        \n",
    "        analysis.options['deviation_evals'] = tmp\n",
    "    return dists, times"
   ]
  },
  {
   "cell_type": "code",
   "execution_count": 12,
   "id": "d38bdb54-7366-49da-8e73-389143924134",
   "metadata": {},
   "outputs": [],
   "source": [
    "def run_data2(analysis, name, n=10, popsize=20, gen=15, out_dir='data'):\n",
    "    dists_name = f\"{out_dir}/{name}-dists-{n}-{popsize}-{gen}.csv\"\n",
    "    times_name = f\"{out_dir}/{name}-times-{n}-{popsize}-{gen}.csv\"\n",
    "    if os.path.exists(dists_name) and os.path.exists(times_name):\n",
    "        dists = np.loadtxt(dists_name, delimiter=',')\n",
    "        times = np.loadtxt(times_name, delimiter=',')\n",
    "    else:\n",
    "        dists, times = [], []\n",
    "        for _ in range(n):\n",
    "            start = datetime.now()\n",
    "            result = analysis.min_unsafe_deviation()\n",
    "            dists.append(result.delta_dist)\n",
    "            times.append((datetime.now() - start).total_seconds())\n",
    "\n",
    "        dists, times = np.array(dists), np.array(times)\n",
    "        np.savetxt(dists_name, dists, delimiter=',')\n",
    "        np.savetxt(times_name, times, delimiter=',')\n",
    "    return dists, times"
   ]
  },
  {
   "cell_type": "code",
   "execution_count": 13,
   "id": "66425827-6ea9-4e83-bd71-4e67f263a6b9",
   "metadata": {},
   "outputs": [],
   "source": [
    "def test_evals(analysis, name, out_dir):\n",
    "    evals = np.arange(50, 151, 25)\n",
    "    data = []\n",
    "    data_times = []\n",
    "    for e in evals:\n",
    "        dists, times = run_data(analysis, name, evals=e, out_dir=out_dir)\n",
    "        data.append(dists)\n",
    "        data_times.append(times)\n",
    "    # plt.boxplot(data, labels=evals)\n",
    "    # plt.show()\n",
    "    return data, data_times"
   ]
  },
  {
   "cell_type": "markdown",
   "id": "75cc530b-5f57-49d0-927a-18d7d787ba6c",
   "metadata": {},
   "source": [
    "### Basic CMA"
   ]
  },
  {
   "cell_type": "code",
   "execution_count": 14,
   "id": "97ff8697-d26f-4e32-8a7c-a18cfca50f22",
   "metadata": {
    "tags": []
   },
   "outputs": [],
   "source": [
    "data1, times1 = test_evals(analysis, 'BasicCMA', 'data')"
   ]
  },
  {
   "cell_type": "code",
   "execution_count": 15,
   "id": "5e49abe2-57dc-47f8-befc-a7f15faf21e3",
   "metadata": {},
   "outputs": [
    {
     "data": {
      "image/png": "[encoded data removed]",
      "text/plain": [
       "<Figure size 640x480 with 2 Axes>"
      ]
     },
     "metadata": {},
     "output_type": "display_data"
    }
   ],
   "source": [
    "_ = analysis.heatmap(masscart, force_mag, 25, 25, x_name=\"Masses\", y_name=\"Forces\", z_name=\"STL Satisfaction\",\n",
    "                 out_dir='data', boundary=np.min(data1), vmax=0.2)\n",
    "plt.title('Robustness $\\hat{\\Delta}: ||\\delta - \\delta_0||_2 < %.3f$' % np.min(data1))\n",
    "plt.savefig('gifs/robustness-landscape-boundary-heatmap.png', bbox_inches='tight')"
   ]
  },
  {
   "cell_type": "markdown",
   "id": "96582fba-d92d-4a7a-835d-a45e1256a2d7",
   "metadata": {
    "tags": []
   },
   "source": [
    "### Random sample"
   ]
  },
  {
   "cell_type": "code",
   "execution_count": 16,
   "id": "848d380f-97f3-418b-b5b3-8832699aa649",
   "metadata": {},
   "outputs": [],
   "source": [
    "data2, times2 = test_evals(RandomMinDev(analysis), 'Random', 'data')"
   ]
  },
  {
   "cell_type": "markdown",
   "id": "2378db6a",
   "metadata": {},
   "source": [
    "### SmartCMA"
   ]
  },
  {
   "cell_type": "code",
   "execution_count": 17,
   "id": "c14e6761-ecba-4f66-b55d-7a7edeb77ff4",
   "metadata": {},
   "outputs": [],
   "source": [
    "data3, times3 = test_evals(SmartCMA(analysis), 'SmartCMA2', 'data')"
   ]
  },
  {
   "cell_type": "markdown",
   "id": "6b4d9123-5f4d-4123-87e0-e113081098a5",
   "metadata": {},
   "source": [
    "## NSGA2"
   ]
  },
  {
   "cell_type": "code",
   "execution_count": null,
   "id": "f87ef166-c32a-45db-89c9-8fe03315bf4a",
   "metadata": {},
   "outputs": [],
   "source": [
    "data4 = run_data2(NSGA2(analysis, gen=15, popsize=20), 'NSGA', popsize=20, gen=15, out_dir='data')"
   ]
  },
  {
   "cell_type": "markdown",
   "id": "9b3cfc97-e504-448a-9cf5-315663068b13",
   "metadata": {},
   "source": [
    "## GACO"
   ]
  },
  {
   "cell_type": "code",
   "execution_count": null,
   "id": "6e52edec-3f36-44e8-b56f-93549cd92741",
   "metadata": {},
   "outputs": [],
   "source": [
    "data5 = run_data2(GACO(analysis, gen=15, popsize=20), 'GACO', popsize=20, gen=15, out_dir='data')"
   ]
  },
  {
   "cell_type": "code",
   "execution_count": null,
   "id": "3f3b358d-870d-4444-9e08-35bdb2b11126",
   "metadata": {},
   "outputs": [],
   "source": [
    "plt.boxplot([data4[0], data5[0],\n",
    "             np.loadtxt('data/BasicCMA-dists-10-100.csv', delimiter=','),\n",
    "             np.loadtxt('data/SmartCMA-dists-10-100.csv', delimiter=','),\n",
    "             np.loadtxt('data/Random-dists-10-100.csv', delimiter=',')],\n",
    "            labels=['NSGA2', 'Ant', 'BasicCMA', 'SmartCMA', 'Random'])"
   ]
  },
  {
   "cell_type": "code",
   "execution_count": 18,
   "id": "a99b12ee-134f-43eb-b75c-901b5be88388",
   "metadata": {},
   "outputs": [],
   "source": [
    "def set_box_color(bp, color):\n",
    "    plt.setp(bp['boxes'], color=color)\n",
    "    plt.setp(bp['whiskers'], color=color)\n",
    "    plt.setp(bp['caps'], color=color)\n",
    "    plt.setp(bp['medians'], color=color)\n",
    "\n",
    "def boxplot(datas, colors, labels, legends):\n",
    "    num_group = len(datas)\n",
    "    num_each_group = len(datas[0])\n",
    "    total = num_group * num_each_group\n",
    "    for i in range(num_group):\n",
    "        bp = plt.boxplot(datas[i], positions=np.arange(i+1, total+1, num_group)+np.arange(num_each_group))\n",
    "        set_box_color(bp, colors[i])\n",
    "    \n",
    "    plt.xticks(np.arange(1+(num_group-1)/2, total, num_group)+np.arange(num_each_group), labels=labels)\n",
    "\n",
    "    for i in range(num_group):\n",
    "        plt.plot([], c=colors[i], label=legends[i])\n",
    "    plt.legend()\n",
    "\n",
    "    plt.show()"
   ]
  },
  {
   "cell_type": "code",
   "execution_count": 19,
   "id": "45962a07-3b91-461e-9206-c99c14f4393d",
   "metadata": {},
   "outputs": [
    {
     "data": {
      "image/png": "[encoded data removed]",
      "text/plain": [
       "<Figure size 640x480 with 1 Axes>"
      ]
     },
     "metadata": {},
     "output_type": "display_data"
    }
   ],
   "source": [
    "boxplot([data1, data2, data3], ['red', 'blue', 'green'], np.arange(50, 151, 25)*(analysis.options['deviation_restarts']+1),\n",
    "        ['BasicCMA', 'Random', 'SmartCMA'])"
   ]
  },
  {
   "cell_type": "code",
   "execution_count": 20,
   "id": "8e5b5362-328a-484e-814d-22c0943a155f",
   "metadata": {},
   "outputs": [
    {
     "data": {
      "image/png": "[encoded data removed]",
      "text/plain": [
       "<Figure size 640x480 with 1 Axes>"
      ]
     },
     "metadata": {},
     "output_type": "display_data"
    }
   ],
   "source": [
    "boxplot([times1, times2, times3], ['red', 'blue', 'green'], np.arange(50, 151, 25)*(analysis.options['deviation_restarts']+1),\n",
    "        ['BasicCMA', 'Random', 'SmartCMA'])"
   ]
  },
  {
   "cell_type": "markdown",
   "id": "78077ef3-35e2-435a-bcd1-37e62522b88d",
   "metadata": {},
   "source": [
    "## Use any deviation and boundary"
   ]
  },
  {
   "cell_type": "code",
   "execution_count": null,
   "id": "c24101e3-2693-4695-9280-d9183764a5aa",
   "metadata": {},
   "outputs": [],
   "source": [
    "class AnyDevWithBoundary(RADecorator):\n",
    "    def min_unsafe_deviation(self, boundary=None):\n",
    "        num_tries = self.options['deviation_restarts']\n",
    "        tmp_evals = self.options['deviation_evals']\n",
    "        \n",
    "        total_evals = tmp_evals * (num_tries + 1)\n",
    "        self.options['deviation_restarts'] = 0\n",
    "        \n",
    "        evals = 0\n",
    "        delta = None\n",
    "        while evals < total_evals:\n",
    "            self.options['deviation_evals'] = min(total_evals - evals, tmp_evals)\n",
    "            result = self.any_unsafe_deviation(boundary)\n",
    "            if result.delta_dist != np.inf and (boundary is None or result.delta_dist < boundary):\n",
    "                delta, boundary = result.delta, result.delta_dist\n",
    "            evals += result.evals\n",
    "        \n",
    "        self.options['deviation_restarts'] = num_tries\n",
    "        self.options['deviation_evals'] = tmp_evals\n",
    "        return RAResult(delta, boundary)"
   ]
  },
  {
   "cell_type": "code",
   "execution_count": null,
   "id": "ec727ca2-6de2-40ed-80f5-760bd294ddb1",
   "metadata": {},
   "outputs": [],
   "source": [
    "ra = AnyDevWithBoundary(analysis).min_unsafe_deviation()\n",
    "ra.delta, ra.delta_dist"
   ]
  },
  {
   "cell_type": "markdown",
   "id": "9a8256f7-4673-46cf-b366-1240dd7ecdaf",
   "metadata": {},
   "source": [
    "## Add number of violations to evaluate each episode"
   ]
  },
  {
   "cell_type": "code",
   "execution_count": null,
   "id": "88aace4c-b8d1-483d-94af-56234c82c8e7",
   "metadata": {},
   "outputs": [],
   "source": [
    "def episode_eval2(obs_record, reward_record):\n",
    "    pos = normalize(np.abs(obs_record[:, 0]), pos_range)\n",
    "    angle = normalize(np.abs(obs_record[:, 2]), angle_range)\n",
    "    \n",
    "    pos_threshold = normalize(2.4, pos_range)\n",
    "    angle_threshold = normalize(12 * 2 * np.pi / 360, angle_range)\n",
    "    \n",
    "    rob = compute_stl_rob(stl_prop(), signal_builder, obs_record)\n",
    "    violations = -np.sum((pos >= pos_threshold) | (angle >= angle_threshold))\n",
    "    return rob + violations / 200"
   ]
  },
  {
   "cell_type": "code",
   "execution_count": null,
   "id": "e6c45b0d-83cd-4122-b8a4-693647059c40",
   "metadata": {
    "tags": []
   },
   "outputs": [],
   "source": [
    "analysis2 = RobustnessAnalysis(env_builder, agent, episode_eval2, delta_0, dev_bounds, dist)\n",
    "analysis2.options = analysis.options"
   ]
  },
  {
   "cell_type": "markdown",
   "id": "fe31f34e-62da-4a78-b987-6b77938ce7c3",
   "metadata": {
    "tags": []
   },
   "source": [
    "### Basic CMA"
   ]
  },
  {
   "cell_type": "code",
   "execution_count": null,
   "id": "f0274d63-e9fa-467c-ab35-92a2050b71ce",
   "metadata": {},
   "outputs": [],
   "source": [
    "data1 = test_evals(analysis2, 'BasicCMA', 'data_violation')"
   ]
  },
  {
   "cell_type": "markdown",
   "id": "9ef80507-794f-4d09-a1a1-3d69d4cffcc5",
   "metadata": {},
   "source": [
    "### Random sample"
   ]
  },
  {
   "cell_type": "code",
   "execution_count": null,
   "id": "237cd5dc-898f-4ef1-998c-36cd37c63ada",
   "metadata": {},
   "outputs": [],
   "source": [
    "data2 = test_evals(RandomMinDev(analysis2), 'Random', 'data_violation')"
   ]
  },
  {
   "cell_type": "markdown",
   "id": "25f689b3-79e3-4dc2-8280-686745e76a8d",
   "metadata": {},
   "source": [
    "### SmartCMA"
   ]
  },
  {
   "cell_type": "code",
   "execution_count": null,
   "id": "5ca2cddd-690c-463a-a35a-49697babeddb",
   "metadata": {},
   "outputs": [],
   "source": [
    "data3 = test_evals(SmartCMA(analysis2), 'SmartCMA', 'data_violation')"
   ]
  },
  {
   "cell_type": "code",
   "execution_count": null,
   "id": "176fb1b3-4fe3-4c29-8db5-d269eff4a2a1",
   "metadata": {},
   "outputs": [],
   "source": [
    "boxplot([data1, data2], ['red', 'blue', 'green'], np.arange(50, 151, 25)*(analysis2.options['deviation_restarts']+1),\n",
    "        ['BasicCMA', 'Random', 'SmartCMA'])"
   ]
  },
  {
   "cell_type": "markdown",
   "id": "a2cdd87b-1f29-4d92-8f78-46aadb5a71c8",
   "metadata": {},
   "source": [
    "## Use Cumulative STL Satisfication metric"
   ]
  },
  {
   "cell_type": "code",
   "execution_count": null,
   "id": "a5e85788-44f6-4a52-801b-dbe6933bcdc0",
   "metadata": {},
   "outputs": [],
   "source": [
    "def episode_eval3(obs_record, reward_record):\n",
    "    pos = normalize(np.abs(obs_record[:, 0]), pos_range)\n",
    "    angle = normalize(np.abs(obs_record[:, 2]), angle_range)\n",
    "    \n",
    "    pos_threshold = normalize(2.4, pos_range)\n",
    "    angle_threshold = normalize(12 * 2 * np.pi / 360, angle_range)\n",
    "    \n",
    "    rob_at_each = np.min([pos_threshold - pos, angle_threshold - angle], axis=0)\n",
    "    \n",
    "    positive, negative = np.sum(rob_at_each[rob_at_each > 0]), np.sum(rob_at_each[rob_at_each < 0])\n",
    "    return positive if negative == 0 else negative"
   ]
  },
  {
   "cell_type": "code",
   "execution_count": null,
   "id": "70dd7139-e87c-4c6e-be3a-557a389e13b4",
   "metadata": {},
   "outputs": [],
   "source": [
    "analysis3 = RobustnessAnalysis(env_builder, agent, episode_eval3, delta_0, dev_bounds, dist)\n",
    "analysis3.options = analysis.options; analysis3.options"
   ]
  },
  {
   "cell_type": "code",
   "execution_count": null,
   "id": "ff4fa968-909c-4181-bc59-7c53e58f3de4",
   "metadata": {},
   "outputs": [],
   "source": [
    "min_dev_and_convergence(analysis3, 'data_cumulative2')"
   ]
  },
  {
   "cell_type": "code",
   "execution_count": null,
   "id": "e196b9bf-90fa-4460-915b-6b4fa2f4f277",
   "metadata": {},
   "outputs": [],
   "source": [
    "test_evals(analysis3, 'BasicCMA', 'data_cumulative')"
   ]
  },
  {
   "cell_type": "code",
   "execution_count": null,
   "id": "31e0d0d7-c886-40e8-bf15-7f28fe05c0ed",
   "metadata": {},
   "outputs": [],
   "source": [
    "test_evals(RandomMinDev(analysis3), 'Random', 'data_cumulative')"
   ]
  },
  {
   "cell_type": "code",
   "execution_count": null,
   "id": "da8d8db3-e2f8-4720-ab24-a6d304b70964",
   "metadata": {},
   "outputs": [],
   "source": []
  }
 ],
 "metadata": {
  "kernelspec": {
   "display_name": "Python 3 (ipykernel)",
   "language": "python",
   "name": "python3"
  },
  "language_info": {
   "codemirror_mode": {
    "name": "ipython",
    "version": 3
   },
   "file_extension": ".py",
   "mimetype": "text/x-python",
   "name": "python",
   "nbconvert_exporter": "python",
   "pygments_lexer": "ipython3",
   "version": "3.8.15"
  }
 },
 "nbformat": 4,
 "nbformat_minor": 5
}
