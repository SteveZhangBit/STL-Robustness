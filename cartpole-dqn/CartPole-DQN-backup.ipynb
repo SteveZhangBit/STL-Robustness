{
 "cells": [
  {
   "cell_type": "code",
   "execution_count": null,
   "id": "3ffd0e51",
   "metadata": {},
   "outputs": [],
   "source": [
    "%run ../robustness_analysis.ipynb"
   ]
  },
  {
   "cell_type": "markdown",
   "id": "3807ca57",
   "metadata": {},
   "source": [
    "## Define the environment"
   ]
  },
  {
   "cell_type": "code",
   "execution_count": null,
   "id": "919b700e",
   "metadata": {},
   "outputs": [],
   "source": [
    "# Create a mutated environment\n",
    "from gym.envs.classic_control import CartPoleEnv\n",
    "from types import SimpleNamespace\n",
    "\n",
    "class MutatedCartPoleEnv(CartPoleEnv):\n",
    "    def __init__(self, masscart = 1.0, masspole = 0.1, length = 0.5, force_mag = 10.0):\n",
    "        super().__init__()\n",
    "        \n",
    "        self.spec = SimpleNamespace()\n",
    "        self.spec.id = f\"MutatedCartPole-{masscart:.3f}-{masspole:.3f}-{length:.3f}-{force_mag:.3f}\"\n",
    "        \n",
    "        self.gravity = 9.8\n",
    "        self.masscart = masscart\n",
    "        self.masspole = masspole\n",
    "        self.total_mass = self.masspole + self.masscart\n",
    "        self.length = length  # actually half the pole's length\n",
    "        self.polemass_length = self.masspole * self.length\n",
    "        self.force_mag = force_mag\n",
    "        self.tau = 0.02  # seconds between state updates\n",
    "    \n",
    "    def reset_to(self, state, seed=None):\n",
    "        self.seed(seed)\n",
    "        self.state = state\n",
    "        self.steps_beyond_done = None\n",
    "        return np.array(self.state, dtype=np.float32)"
   ]
  },
  {
   "cell_type": "code",
   "execution_count": null,
   "id": "2f3cf3e5",
   "metadata": {},
   "outputs": [],
   "source": [
    "masscart = [0.1, 2.0]\n",
    "force_mag = [1.0, 20.0]\n",
    "\n",
    "# define the range of the deviation parameters\n",
    "dev_bounds = np.asarray([masscart, force_mag])\n",
    "\n",
    "# define the range of the initial states\n",
    "x0_bounds = np.repeat([[-0.05, 0.05]], 4, axis=0)\n",
    "\n",
    "# define the deviation parameter value for the original environment (no deviation)\n",
    "delta_0 = np.asarray([\n",
    "    1.0, # default masscart (not normalized)\n",
    "    10.0 # default force_mag\n",
    "])"
   ]
  },
  {
   "cell_type": "code",
   "execution_count": null,
   "id": "1cb2dae4",
   "metadata": {},
   "outputs": [],
   "source": [
    "def env_builder(delta):\n",
    "    return MutatedCartPoleEnv(masscart=delta[0], force_mag=delta[1]), x0_bounds"
   ]
  },
  {
   "cell_type": "markdown",
   "id": "abe5d076",
   "metadata": {},
   "source": [
    "## Define the agent"
   ]
  },
  {
   "cell_type": "code",
   "execution_count": null,
   "id": "35429188",
   "metadata": {},
   "outputs": [],
   "source": [
    "from stable_baselines3 import DQN\n",
    "\n",
    "model_name = 'best_dqn'\n",
    "model = DQN.load(model_name)\n",
    "\n",
    "agent = {\n",
    "    # define the action generation function of the given agent\n",
    "    'next_action': lambda obs: model.predict(obs, deterministic=True)[0],\n",
    "    # some agents (like PID) needs to be reset for each run\n",
    "    'model_reset': None\n",
    "}"
   ]
  },
  {
   "cell_type": "markdown",
   "id": "35f0b108",
   "metadata": {},
   "source": [
    "## Define the STL property"
   ]
  },
  {
   "cell_type": "code",
   "execution_count": null,
   "id": "b69c5d48",
   "metadata": {},
   "outputs": [],
   "source": [
    "obs_space = MutatedCartPoleEnv().observation_space\n",
    "pos_range = np.asarray([obs_space.low[0], obs_space.high[0]])\n",
    "angle_range = np.asarray([obs_space.low[2], obs_space.high[2]])\n",
    "\n",
    "def stl_prop():\n",
    "    pos = stl.Predicate('pos')\n",
    "    angle = stl.Predicate('angle')\n",
    "\n",
    "    pos_threshold = normalize(2.4, pos_range)\n",
    "    angle_threshold = normalize(12 * 2 * np.pi / 360, angle_range)\n",
    "\n",
    "    return stl.Always( (pos < pos_threshold) & (angle < angle_threshold) )\n",
    "\n",
    "\n",
    "def signal_builder(record, time_index):\n",
    "    return {\n",
    "        \"pos\": stl.Signal(\n",
    "            normalize(np.abs(record[:, 0]), pos_range),\n",
    "            time_index\n",
    "        ),\n",
    "        \"angle\": stl.Signal(\n",
    "            normalize(np.abs(record[:, 2]), angle_range),\n",
    "            time_index\n",
    "        )\n",
    "    }\n",
    "\n",
    "def episode_eval(obs_record, reward_record):\n",
    "    return compute_stl_rob(stl_prop(), signal_builder, obs_record)"
   ]
  },
  {
   "cell_type": "markdown",
   "id": "362ab3f7",
   "metadata": {},
   "source": [
    "## Define distance metric"
   ]
  },
  {
   "cell_type": "code",
   "execution_count": null,
   "id": "5feea0f7",
   "metadata": {},
   "outputs": [],
   "source": [
    "# l-2 norm distance\n",
    "def dist(delta, delta_0):\n",
    "    delta = normalize(delta, dev_bounds)\n",
    "    delta_0 = normalize(delta_0, dev_bounds)\n",
    "    return np.sqrt(np.sum((delta - delta_0) ** 2))"
   ]
  },
  {
   "cell_type": "markdown",
   "id": "240895a4",
   "metadata": {},
   "source": [
    "## Start analysis"
   ]
  },
  {
   "cell_type": "code",
   "execution_count": null,
   "id": "44081673",
   "metadata": {},
   "outputs": [],
   "source": [
    "if not os.path.exists('gifs'):\n",
    "    os.mkdir('gifs')\n",
    "if not os.path.exists('data'):\n",
    "    os.mkdir('data')"
   ]
  },
  {
   "cell_type": "code",
   "execution_count": null,
   "id": "4443344c",
   "metadata": {},
   "outputs": [],
   "source": [
    "from datetime import datetime"
   ]
  },
  {
   "cell_type": "code",
   "execution_count": null,
   "id": "05f7d68a",
   "metadata": {},
   "outputs": [],
   "source": [
    "analysis = RobustnessAnalysisCMA2(env_builder, agent, episode_eval, delta_0, dev_bounds, dist)\n",
    "analysis.options['deviation_restarts'] = 2\n",
    "analysis.options['deviation_sigma'] = 0.2\n",
    "analysis.options['deviation_evals'] = 100\n",
    "analysis.options['falsification_sigma'] = 0.4\n",
    "analysis.options['falsification_timeout'] = 1\n",
    "analysis.options['falsification_restarts'] = 0\n",
    "analysis.options"
   ]
  },
  {
   "cell_type": "code",
   "execution_count": null,
   "id": "42b8f1ec",
   "metadata": {},
   "outputs": [],
   "source": [
    "start = datetime.now()\n",
    "delta, delta_dist = analysis.any_unsafe_deviation()\n",
    "print('Time to find any unsafe deviation:', datetime.now() - start)\n",
    "print(delta, delta_dist)"
   ]
  },
  {
   "cell_type": "code",
   "execution_count": null,
   "id": "dcd18497",
   "metadata": {},
   "outputs": [],
   "source": [
    "analysis.visualize_deviation(delta, \"gifs/any_counterexample.gif\")"
   ]
  },
  {
   "cell_type": "code",
   "execution_count": null,
   "id": "de920208",
   "metadata": {},
   "outputs": [],
   "source": [
    "start = datetime.now()\n",
    "delta, delta_dist, _ = analysis.min_unsafe_deviation()\n",
    "print('Time to find min unsafe deviation:', datetime.now() - start)\n",
    "print(delta, delta_dist)"
   ]
  },
  {
   "cell_type": "code",
   "execution_count": null,
   "id": "2e2589e0",
   "metadata": {},
   "outputs": [],
   "source": [
    "analysis.visualize_deviation(delta, \"gifs/min_counterexample.gif\")"
   ]
  },
  {
   "cell_type": "code",
   "execution_count": null,
   "id": "b5d88bd5-6112-4081-b885-8885a08e4bda",
   "metadata": {},
   "outputs": [],
   "source": [
    "boundary = delta_dist"
   ]
  },
  {
   "cell_type": "code",
   "execution_count": null,
   "id": "da75a037",
   "metadata": {},
   "outputs": [],
   "source": [
    "ax, masses, forces, grid_data = analysis.grid_plot(masscart, force_mag, 25, 25, x_name=\"Masses\", y_name=\"Forces\",\n",
    "                                                   z_name=\"STL Satisfaction\")\n",
    "ax.view_init(30, -125)\n",
    "plt.savefig('gifs/robustness-landscape.png', bbox_inches='tight')\n",
    "plt.show()"
   ]
  },
  {
   "cell_type": "code",
   "execution_count": null,
   "id": "8a1b5dfd",
   "metadata": {},
   "outputs": [],
   "source": [
    "analysis.heatmap(masscart, force_mag, 25, 25, x_name=\"Masses\", y_name=\"Forces\", z_name=\"STL Satisfaction\")\n",
    "plt.savefig('gifs/robustness-landscape-heatmap.png', bbox_inches='tight')\n",
    "plt.show()"
   ]
  },
  {
   "cell_type": "markdown",
   "id": "6759d200",
   "metadata": {},
   "source": [
    "## Compute robustness boundary"
   ]
  },
  {
   "cell_type": "code",
   "execution_count": null,
   "id": "bd60bf88",
   "metadata": {},
   "outputs": [],
   "source": [
    "ax, masses, forces, grid_data = analysis.grid_plot(masscart, force_mag, 25, 25, x_name=\"Masses\", y_name=\"Forces\",\n",
    "                                                   z_name='STL Satisfaction', boundary=boundary)\n",
    "ax.view_init(30, -125)\n",
    "plt.savefig('gifs/robustness-landscape-boundary.png', bbox_inches='tight')\n",
    "plt.show()"
   ]
  },
  {
   "cell_type": "code",
   "execution_count": null,
   "id": "6bd6f71a",
   "metadata": {},
   "outputs": [],
   "source": [
    "analysis.heatmap(masscart, force_mag, 25, 25, x_name=\"Masses\", y_name=\"Forces\", z_name=\"STL Satisfaction\",\n",
    "                 boundary=boundary)\n",
    "plt.savefig('gifs/robustness-landscape-boundary-heatmap.png', bbox_inches='tight')\n",
    "plt.show()"
   ]
  },
  {
   "cell_type": "markdown",
   "id": "eecbf077-6e34-4ef5-ad35-5d0df9408910",
   "metadata": {},
   "source": [
    "## Try out different system evaluation function"
   ]
  },
  {
   "cell_type": "code",
   "execution_count": null,
   "id": "4bdb37fb-8da3-4763-b1f0-f3cb00a026b0",
   "metadata": {},
   "outputs": [],
   "source": [
    "analysis = RobustnessAnalysis(env_builder, agent, episode_eval, delta_0, dev_bounds, dist)\n",
    "analysis.options['deviation_restarts'] = 2\n",
    "analysis.options['deviation_sigma'] = 0.2\n",
    "analysis.options['deviation_evals'] = 100\n",
    "analysis.options['falsification_sigma'] = 0.4\n",
    "analysis.options['falsification_timeout'] = 1\n",
    "analysis.options['falsification_restarts'] = 0\n",
    "analysis.options"
   ]
  },
  {
   "cell_type": "code",
   "execution_count": null,
   "id": "56f6c5ac-e976-485f-8cfb-65e61fff3e71",
   "metadata": {},
   "outputs": [],
   "source": [
    "def run_data(analysis):\n",
    "    dists, times = [], []\n",
    "    for _ in range(10):\n",
    "        start = datetime.now()\n",
    "        _, dist, Xss = analysis.min_unsafe_deviation()\n",
    "        \n",
    "        for i in range(analysis.options['deviation_restarts']+1):\n",
    "            analysis.heatmap(masscart, force_mag, 25, 25, x_name=\"Masses\", y_name=\"Forces\", z_name=\"STL Satisfaction\")\n",
    "            plt.scatter(Xss[i][:, 0] * 24, Xss[i][:, 1] * 24, c=np.arange(len(Xss[i])), cmap='Greys')\n",
    "            plt.show()\n",
    "    \n",
    "        dists.append(dist)\n",
    "        times.append(datetime.now() - start)\n",
    "    return np.array(dists), np.array(times)"
   ]
  },
  {
   "cell_type": "code",
   "execution_count": null,
   "id": "e03e7cb5-13ee-414e-a022-693b103c0ddb",
   "metadata": {},
   "outputs": [],
   "source": [
    "dists1, times1 = run_data(analysis)"
   ]
  },
  {
   "cell_type": "code",
   "execution_count": null,
   "id": "958986de-aaa9-4ffe-b71b-fa6ed765afe3",
   "metadata": {},
   "outputs": [],
   "source": [
    "analysis2 = RobustnessAnalysisCMA2(env_builder, agent, episode_eval, delta_0, dev_bounds, dist)\n",
    "analysis2.options['deviation_restarts'] = 2\n",
    "analysis2.options['deviation_sigma'] = 0.2\n",
    "analysis2.options['deviation_evals'] = 100\n",
    "analysis2.options['falsification_sigma'] = 0.4\n",
    "analysis2.options['falsification_timeout'] = 1\n",
    "analysis2.options['falsification_restarts'] = 0\n",
    "analysis2.options"
   ]
  },
  {
   "cell_type": "code",
   "execution_count": null,
   "id": "ee13d4d5-dcf6-41cb-b6ae-b30a82ada9b8",
   "metadata": {},
   "outputs": [],
   "source": [
    "dists2, times2 = run_data(analysis2)"
   ]
  },
  {
   "cell_type": "code",
   "execution_count": null,
   "id": "e8fe310a-007c-43e1-a3b7-7a9b41eb123e",
   "metadata": {},
   "outputs": [],
   "source": [
    "plt.boxplot([dists1, dists2])"
   ]
  },
  {
   "cell_type": "code",
   "execution_count": null,
   "id": "5c3a4adc-cddb-4a26-9901-fcde6057eb9e",
   "metadata": {},
   "outputs": [],
   "source": [
    "plt.boxplot([[x.total_seconds() for x in times1], [x.total_seconds() for x in times2]])"
   ]
  },
  {
   "cell_type": "markdown",
   "id": "adcd83ef",
   "metadata": {},
   "source": [
    "## Use reward as the property evaluation function"
   ]
  },
  {
   "cell_type": "code",
   "execution_count": null,
   "id": "5638e9ea",
   "metadata": {},
   "outputs": [],
   "source": [
    "def episode_eval_reward(obs_record, reward_record):\n",
    "    return reward_record.sum() - 200"
   ]
  },
  {
   "cell_type": "code",
   "execution_count": null,
   "id": "7564c9cd",
   "metadata": {},
   "outputs": [],
   "source": [
    "analysis_reward = RobustnessAnalysis(env_builder, agent, episode_eval_reward, delta_0, dev_bounds, dist)\n",
    "analysis_reward.options['falsification_num_trials'] = 1"
   ]
  },
  {
   "cell_type": "code",
   "execution_count": null,
   "id": "5f24d81c",
   "metadata": {},
   "outputs": [],
   "source": [
    "ax, masses, forces, grid_data = analysis_reward.grid_plot(masscart, force_mag, 25, 25, out_dir=\"data_reward\",\n",
    "                                                          x_name=\"masses\", y_name=\"forces\", z_name='Reward')\n",
    "ax.set_xlabel('Mass', fontsize=13)\n",
    "ax.set_ylabel('Force magnitude', fontsize=13)\n",
    "ax.view_init(30, -125)\n",
    "plt.savefig('gifs/robustness-landscape-reward.png')\n",
    "plt.show()"
   ]
  },
  {
   "cell_type": "code",
   "execution_count": null,
   "id": "14840fee",
   "metadata": {},
   "outputs": [],
   "source": []
  }
 ],
 "metadata": {
  "kernelspec": {
   "display_name": "Python 3 (ipykernel)",
   "language": "python",
   "name": "python3"
  },
  "language_info": {
   "codemirror_mode": {
    "name": "ipython",
    "version": 3
   },
   "file_extension": ".py",
   "mimetype": "text/x-python",
   "name": "python",
   "nbconvert_exporter": "python",
   "pygments_lexer": "ipython3",
   "version": "3.8.15"
  }
 },
 "nbformat": 4,
 "nbformat_minor": 5
}
